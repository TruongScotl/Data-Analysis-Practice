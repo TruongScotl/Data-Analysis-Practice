{
  "nbformat": 4,
  "nbformat_minor": 0,
  "metadata": {
    "colab": {
      "name": "Data_Analysis_programming_p6.ipynb",
      "provenance": [],
      "collapsed_sections": [],
      "authorship_tag": "ABX9TyOeHJ559K8WPinBGus4/1ks",
      "include_colab_link": true
    },
    "kernelspec": {
      "name": "python3",
      "display_name": "Python 3"
    },
    "language_info": {
      "name": "python"
    }
  },
  "cells": [
    {
      "cell_type": "markdown",
      "metadata": {
        "id": "view-in-github",
        "colab_type": "text"
      },
      "source": [
        "<a href=\"https://colab.research.google.com/github/TruongScotl/Data-Analysis-Practice/blob/main/Data_Analysis_programming_p6.ipynb\" target=\"_parent\"><img src=\"https://colab.research.google.com/assets/colab-badge.svg\" alt=\"Open In Colab\"/></a>"
      ]
    },
    {
      "cell_type": "code",
      "metadata": {
        "id": "pLpJoN6cUkem"
      },
      "source": [
        "import pandas as pd\n",
        "import numpy as np"
      ],
      "execution_count": 4,
      "outputs": []
    },
    {
      "cell_type": "code",
      "metadata": {
        "colab": {
          "base_uri": "https://localhost:8080/"
        },
        "id": "YT1FnAgZV-bg",
        "outputId": "a479d09b-8970-4add-f740-dd0aa30633a4"
      },
      "source": [
        "df = pd.read_csv('/content/dulieuxettuyendaihoc.csv', header =0, delimiter =',')\n",
        "print(df[['DH1','DH2','DH3']])"
      ],
      "execution_count": 8,
      "outputs": [
        {
          "output_type": "stream",
          "text": [
            "     DH1   DH2   DH3\n",
            "0   3.25  3.25  4.50\n",
            "1   6.00  4.00  3.50\n",
            "2   5.00  6.75  4.00\n",
            "3   4.25  4.25  5.25\n",
            "4   4.25  4.50  5.00\n",
            "..   ...   ...   ...\n",
            "95  5.25  1.50  6.25\n",
            "96  5.25  3.75  4.75\n",
            "97  7.00  8.00  4.00\n",
            "98  5.00  3.50  5.50\n",
            "99  5.25  2.50  4.25\n",
            "\n",
            "[100 rows x 3 columns]\n"
          ],
          "name": "stdout"
        }
      ]
    },
    {
      "cell_type": "markdown",
      "metadata": {
        "id": "If1JqcLjWUHV"
      },
      "source": [
        "Dựa vào điểm thi năm 2021 - Trường đại học IUH, cần tuyển những học sinh có điểm thi sao cho phù hợp với nhu cầu đào tạo của trường. \n",
        "* Trường IUH thấy rằng ban tuyển sinh ưu tiên DH3 tốt và DH1 vừa đủ. Hãy đưa ra khuyến nghị đề xuất các nhóm học sinh có kết quả phù hợp."
      ]
    },
    {
      "cell_type": "markdown",
      "metadata": {
        "id": "EnOS_DX3XYt3"
      },
      "source": [
        "Cần phải biết cách đặt câu hỏi: thế nào là tốt ? thế nào là vừa đủ ? nhóm học sinh có kết quả phù hợp ?"
      ]
    },
    {
      "cell_type": "code",
      "metadata": {
        "colab": {
          "base_uri": "https://localhost:8080/"
        },
        "id": "QtIjj6K-bpke",
        "outputId": "685c5fed-205c-44dd-aa6f-727e6ee838a4"
      },
      "source": [
        "# split to 3 group is good ? Need method to choice best number of group\n",
        "from kneed import KneeLocator\n",
        "sse = []\n",
        "kmeans_kwargs = {'init': 'random', 'n_init':10,\n",
        "                 'max_iter':300, 'random_state':42}\n",
        "for k in range(1,11):\n",
        "  kmeans = KMeans(n_clusters = k, **kmeans_kwargs)\n",
        "  kmeans.fit(data)\n",
        "  sse.append(kmeans.inertia_)\n",
        "kl = KneeLocator(range(1,11), sse, curve = 'convex', direction = 'decreasing')\n",
        "print(\"Số cụm đạt tốt nhất: \", kl.elbow)"
      ],
      "execution_count": 51,
      "outputs": [
        {
          "output_type": "stream",
          "text": [
            "Số cụm đạt tốt nhất:  4\n"
          ],
          "name": "stdout"
        }
      ]
    },
    {
      "cell_type": "code",
      "metadata": {
        "colab": {
          "base_uri": "https://localhost:8080/"
        },
        "id": "AVBeMnSpXYCQ",
        "outputId": "b5e195a0-b942-4d20-e9a6-c502b3ba31db"
      },
      "source": [
        "#Gom cụm --> Kmeans\n",
        "data = df[['DH1', 'DH2', 'DH3']]\n",
        "from sklearn.cluster import KMeans\n",
        "\n",
        "kmeans = KMeans(n_clusters = 4).fit(data)\n",
        "\n",
        "print(kmeans.cluster_centers_)\n",
        "print(kmeans.labels_[:])"
      ],
      "execution_count": 52,
      "outputs": [
        {
          "output_type": "stream",
          "text": [
            "[[2.14285714 4.24107143 5.375     ]\n",
            " [6.10714286 6.46428571 5.07142857]\n",
            " [3.59210526 4.39473684 4.05263158]\n",
            " [4.99074074 3.5        5.46296296]]\n",
            "[2 3 1 3 2 0 1 2 3 2 0 1 0 0 0 3 2 2 2 2 2 2 3 1 3 3 3 2 2 0 3 3 2 0 0 0 2\n",
            " 0 0 2 3 3 3 0 2 0 3 1 3 2 2 0 2 0 3 2 1 0 0 2 0 2 2 0 3 0 2 3 2 0 0 2 0 2\n",
            " 3 2 2 2 2 0 3 2 2 0 3 2 0 0 2 0 3 2 2 2 3 3 3 1 3 3]\n"
          ],
          "name": "stdout"
        }
      ]
    },
    {
      "cell_type": "code",
      "metadata": {
        "colab": {
          "base_uri": "https://localhost:8080/"
        },
        "id": "zGuB_FRAWE-p",
        "outputId": "b77b0f5b-c6d4-4b1a-bb1c-cb6233e68299"
      },
      "source": [
        "df['Group'] = kmeans.labels_[:]\n",
        "print(df[['DH1','DH2','DH3','Group']])"
      ],
      "execution_count": 53,
      "outputs": [
        {
          "output_type": "stream",
          "text": [
            "     DH1   DH2   DH3  Group\n",
            "0   3.25  3.25  4.50      2\n",
            "1   6.00  4.00  3.50      3\n",
            "2   5.00  6.75  4.00      1\n",
            "3   4.25  4.25  5.25      3\n",
            "4   4.25  4.50  5.00      2\n",
            "..   ...   ...   ...    ...\n",
            "95  5.25  1.50  6.25      3\n",
            "96  5.25  3.75  4.75      3\n",
            "97  7.00  8.00  4.00      1\n",
            "98  5.00  3.50  5.50      3\n",
            "99  5.25  2.50  4.25      3\n",
            "\n",
            "[100 rows x 4 columns]\n"
          ],
          "name": "stdout"
        }
      ]
    },
    {
      "cell_type": "code",
      "metadata": {
        "colab": {
          "base_uri": "https://localhost:8080/",
          "height": 201
        },
        "id": "3Yv04gYCY2q-",
        "outputId": "d73ccbd8-2c3e-4ad1-af9b-39910c8b2712"
      },
      "source": [
        "df_analysis = df[['DH1', 'DH2', 'DH3','Group']]\n",
        "df_analysis.head()"
      ],
      "execution_count": 54,
      "outputs": [
        {
          "output_type": "execute_result",
          "data": {
            "text/html": [
              "<div>\n",
              "<style scoped>\n",
              "    .dataframe tbody tr th:only-of-type {\n",
              "        vertical-align: middle;\n",
              "    }\n",
              "\n",
              "    .dataframe tbody tr th {\n",
              "        vertical-align: top;\n",
              "    }\n",
              "\n",
              "    .dataframe thead th {\n",
              "        text-align: right;\n",
              "    }\n",
              "</style>\n",
              "<table border=\"1\" class=\"dataframe\">\n",
              "  <thead>\n",
              "    <tr style=\"text-align: right;\">\n",
              "      <th></th>\n",
              "      <th>DH1</th>\n",
              "      <th>DH2</th>\n",
              "      <th>DH3</th>\n",
              "      <th>Group</th>\n",
              "    </tr>\n",
              "  </thead>\n",
              "  <tbody>\n",
              "    <tr>\n",
              "      <th>0</th>\n",
              "      <td>3.25</td>\n",
              "      <td>3.25</td>\n",
              "      <td>4.50</td>\n",
              "      <td>2</td>\n",
              "    </tr>\n",
              "    <tr>\n",
              "      <th>1</th>\n",
              "      <td>6.00</td>\n",
              "      <td>4.00</td>\n",
              "      <td>3.50</td>\n",
              "      <td>3</td>\n",
              "    </tr>\n",
              "    <tr>\n",
              "      <th>2</th>\n",
              "      <td>5.00</td>\n",
              "      <td>6.75</td>\n",
              "      <td>4.00</td>\n",
              "      <td>1</td>\n",
              "    </tr>\n",
              "    <tr>\n",
              "      <th>3</th>\n",
              "      <td>4.25</td>\n",
              "      <td>4.25</td>\n",
              "      <td>5.25</td>\n",
              "      <td>3</td>\n",
              "    </tr>\n",
              "    <tr>\n",
              "      <th>4</th>\n",
              "      <td>4.25</td>\n",
              "      <td>4.50</td>\n",
              "      <td>5.00</td>\n",
              "      <td>2</td>\n",
              "    </tr>\n",
              "  </tbody>\n",
              "</table>\n",
              "</div>"
            ],
            "text/plain": [
              "    DH1   DH2   DH3  Group\n",
              "0  3.25  3.25  4.50      2\n",
              "1  6.00  4.00  3.50      3\n",
              "2  5.00  6.75  4.00      1\n",
              "3  4.25  4.25  5.25      3\n",
              "4  4.25  4.50  5.00      2"
            ]
          },
          "metadata": {
            "tags": []
          },
          "execution_count": 54
        }
      ]
    },
    {
      "cell_type": "code",
      "metadata": {
        "colab": {
          "base_uri": "https://localhost:8080/",
          "height": 294
        },
        "id": "hjacNqmZZEto",
        "outputId": "697712f7-9b67-4ea9-8ae6-647605af3cff"
      },
      "source": [
        "import matplotlib.pyplot as plt\n",
        "gr_count = df_analysis.groupby(['Group']).size()\n",
        "gr_count.plot.bar()\n",
        "plt.xticks(rotation = 0)"
      ],
      "execution_count": 55,
      "outputs": [
        {
          "output_type": "execute_result",
          "data": {
            "text/plain": [
              "(array([0, 1, 2, 3]), <a list of 4 Text major ticklabel objects>)"
            ]
          },
          "metadata": {
            "tags": []
          },
          "execution_count": 55
        },
        {
          "output_type": "display_data",
          "data": {
            "image/png": "[encoded data removed]",
            "text/plain": [
              "<Figure size 432x288 with 1 Axes>"
            ]
          },
          "metadata": {
            "tags": [],
            "needs_background": "light"
          }
        }
      ]
    },
    {
      "cell_type": "code",
      "metadata": {
        "colab": {
          "base_uri": "https://localhost:8080/",
          "height": 347
        },
        "id": "dqP198lkZWkM",
        "outputId": "25ce4600-6a7b-4895-bb2e-3549425b52db"
      },
      "source": [
        "gr_min = df_analysis.groupby(['Group'])['DH1','DH2','DH3'].min()\n",
        "gr_min.plot(kind='bar')\n",
        "plt.xticks(rotation = 0)"
      ],
      "execution_count": 56,
      "outputs": [
        {
          "output_type": "stream",
          "text": [
            "/usr/local/lib/python3.7/dist-packages/ipykernel_launcher.py:1: FutureWarning: Indexing with multiple keys (implicitly converted to a tuple of keys) will be deprecated, use a list instead.\n",
            "  \"\"\"Entry point for launching an IPython kernel.\n"
          ],
          "name": "stderr"
        },
        {
          "output_type": "execute_result",
          "data": {
            "text/plain": [
              "(array([0, 1, 2, 3]), <a list of 4 Text major ticklabel objects>)"
            ]
          },
          "metadata": {
            "tags": []
          },
          "execution_count": 56
        },
        {
          "output_type": "display_data",
          "data": {
            "image/png": "[encoded data removed]",
            "text/plain": [
              "<Figure size 432x288 with 1 Axes>"
            ]
          },
          "metadata": {
            "tags": [],
            "needs_background": "light"
          }
        }
      ]
    },
    {
      "cell_type": "code",
      "metadata": {
        "colab": {
          "base_uri": "https://localhost:8080/",
          "height": 347
        },
        "id": "zpAfRwBybknf",
        "outputId": "5719a41d-99de-4b19-ea63-560b07902d2e"
      },
      "source": [
        "gr_mean = df_analysis.groupby(['Group'])['DH1','DH2','DH3'].mean()\n",
        "gr_mean.plot(kind='bar')\n",
        "plt.xticks(rotation = 0)"
      ],
      "execution_count": 57,
      "outputs": [
        {
          "output_type": "stream",
          "text": [
            "/usr/local/lib/python3.7/dist-packages/ipykernel_launcher.py:1: FutureWarning: Indexing with multiple keys (implicitly converted to a tuple of keys) will be deprecated, use a list instead.\n",
            "  \"\"\"Entry point for launching an IPython kernel.\n"
          ],
          "name": "stderr"
        },
        {
          "output_type": "execute_result",
          "data": {
            "text/plain": [
              "(array([0, 1, 2, 3]), <a list of 4 Text major ticklabel objects>)"
            ]
          },
          "metadata": {
            "tags": []
          },
          "execution_count": 57
        },
        {
          "output_type": "display_data",
          "data": {
            "image/png": "[encoded data removed]",
            "text/plain": [
              "<Figure size 432x288 with 1 Axes>"
            ]
          },
          "metadata": {
            "tags": [],
            "needs_background": "light"
          }
        }
      ]
    },
    {
      "cell_type": "code",
      "metadata": {
        "colab": {
          "base_uri": "https://localhost:8080/",
          "height": 347
        },
        "id": "rqk56UrGa9JN",
        "outputId": "fd060bf6-eaf0-418e-a4cd-fdb1251d4032"
      },
      "source": [
        "gr_max = df_analysis.groupby(['Group'])['DH1','DH2','DH3'].max()\n",
        "gr_max.plot(kind='bar')\n",
        "plt.xticks(rotation = 0)"
      ],
      "execution_count": 58,
      "outputs": [
        {
          "output_type": "stream",
          "text": [
            "/usr/local/lib/python3.7/dist-packages/ipykernel_launcher.py:1: FutureWarning: Indexing with multiple keys (implicitly converted to a tuple of keys) will be deprecated, use a list instead.\n",
            "  \"\"\"Entry point for launching an IPython kernel.\n"
          ],
          "name": "stderr"
        },
        {
          "output_type": "execute_result",
          "data": {
            "text/plain": [
              "(array([0, 1, 2, 3]), <a list of 4 Text major ticklabel objects>)"
            ]
          },
          "metadata": {
            "tags": []
          },
          "execution_count": 58
        },
        {
          "output_type": "display_data",
          "data": {
            "image/png": "[encoded data removed]",
            "text/plain": [
              "<Figure size 432x288 with 1 Axes>"
            ]
          },
          "metadata": {
            "tags": [],
            "needs_background": "light"
          }
        }
      ]
    },
    {
      "cell_type": "code",
      "metadata": {
        "colab": {
          "base_uri": "https://localhost:8080/",
          "height": 347
        },
        "id": "iBu9RHGObhCy",
        "outputId": "b69e1f1a-b57b-45d5-b09b-f168dca36f30"
      },
      "source": [
        "gr_std = df_analysis.groupby(['Group'])['DH1','DH2','DH3'].std()\n",
        "gr_std.plot(kind='bar')\n",
        "plt.xticks(rotation = 0)"
      ],
      "execution_count": 59,
      "outputs": [
        {
          "output_type": "stream",
          "text": [
            "/usr/local/lib/python3.7/dist-packages/ipykernel_launcher.py:1: FutureWarning: Indexing with multiple keys (implicitly converted to a tuple of keys) will be deprecated, use a list instead.\n",
            "  \"\"\"Entry point for launching an IPython kernel.\n"
          ],
          "name": "stderr"
        },
        {
          "output_type": "execute_result",
          "data": {
            "text/plain": [
              "(array([0, 1, 2, 3]), <a list of 4 Text major ticklabel objects>)"
            ]
          },
          "metadata": {
            "tags": []
          },
          "execution_count": 59
        },
        {
          "output_type": "display_data",
          "data": {
            "image/png": "[encoded data removed]",
            "text/plain": [
              "<Figure size 432x288 with 1 Axes>"
            ]
          },
          "metadata": {
            "tags": [],
            "needs_background": "light"
          }
        }
      ]
    },
    {
      "cell_type": "code",
      "metadata": {
        "id": "baut8A5PcvLl"
      },
      "source": [
        "# inference causal, lasso, partial dependent chart"
      ],
      "execution_count": 59,
      "outputs": []
    }
  ]
}
{
  "nbformat": 4,
  "nbformat_minor": 0,
  "metadata": {
    "colab": {
      "name": "Laptrinhphantichdulieu_p2.ipynb",
      "provenance": [],
      "collapsed_sections": [],
      "authorship_tag": "ABX9TyOArvD8I49js7U6TCkxT4Y9",
      "include_colab_link": true
    },
    "kernelspec": {
      "name": "python3",
      "display_name": "Python 3"
    },
    "language_info": {
      "name": "python"
    }
  },
  "cells": [
    {
      "cell_type": "markdown",
      "metadata": {
        "id": "view-in-github",
        "colab_type": "text"
      },
      "source": [
        "<a href=\"https://colab.research.google.com/github/TruongScotl/LapTrinhPhanTichDuLieu/blob/main/Laptrinhphantichdulieu_p2.ipynb\" target=\"_parent\"><img src=\"https://colab.research.google.com/assets/colab-badge.svg\" alt=\"Open In Colab\"/></a>"
      ]
    },
    {
      "cell_type": "markdown",
      "metadata": {
        "id": "Puauut57T4Tb"
      },
      "source": [
        "Build model linear regression to predict variable L1 base on L1, L2, L3, L3, L4, L5\n",
        "\n",
        "\n",
        "1.   Input: L1, L2, L3, L4, L5\n",
        "2.   Output: L6\n",
        "3.   Model: L6 = f(L1+L2+L3+L4+L5)\n",
        "-> L6 = B + L1*A1 + L2*A2 + L3*A3 + L4*A4 + L5*A5 + epsilon\n",
        "\n",
        "\n",
        "*   Skip multiple variable statis steps\n",
        "\n",
        "\n",
        "\n"
      ]
    },
    {
      "cell_type": "code",
      "metadata": {
        "id": "dtJbY6KKYnl4"
      },
      "source": [
        "import pandas as pd\n",
        "import numpy as np"
      ],
      "execution_count": null,
      "outputs": []
    },
    {
      "cell_type": "code",
      "metadata": {
        "colab": {
          "base_uri": "https://localhost:8080/",
          "height": 221
        },
        "id": "zmCh830HU-1C",
        "outputId": "13ed04ab-ee60-4666-9572-01f71fc90876"
      },
      "source": [
        "df = pd.read_csv('/content/dulieuxettuyendaihoc.csv', header = 0, delimiter = ',')\n",
        "df.head(5)"
      ],
      "execution_count": null,
      "outputs": [
        {
          "output_type": "execute_result",
          "data": {
            "text/html": [
              "<div>\n",
              "<style scoped>\n",
              "    .dataframe tbody tr th:only-of-type {\n",
              "        vertical-align: middle;\n",
              "    }\n",
              "\n",
              "    .dataframe tbody tr th {\n",
              "        vertical-align: top;\n",
              "    }\n",
              "\n",
              "    .dataframe thead th {\n",
              "        text-align: right;\n",
              "    }\n",
              "</style>\n",
              "<table border=\"1\" class=\"dataframe\">\n",
              "  <thead>\n",
              "    <tr style=\"text-align: right;\">\n",
              "      <th></th>\n",
              "      <th>STT</th>\n",
              "      <th>T1</th>\n",
              "      <th>L1</th>\n",
              "      <th>H1</th>\n",
              "      <th>S1</th>\n",
              "      <th>V1</th>\n",
              "      <th>X1</th>\n",
              "      <th>D1</th>\n",
              "      <th>N1</th>\n",
              "      <th>T2</th>\n",
              "      <th>L2</th>\n",
              "      <th>H2</th>\n",
              "      <th>S2</th>\n",
              "      <th>V2</th>\n",
              "      <th>X2</th>\n",
              "      <th>D2</th>\n",
              "      <th>N2</th>\n",
              "      <th>T3</th>\n",
              "      <th>L3</th>\n",
              "      <th>H3</th>\n",
              "      <th>S3</th>\n",
              "      <th>V3</th>\n",
              "      <th>X3</th>\n",
              "      <th>D3</th>\n",
              "      <th>N3</th>\n",
              "      <th>T4</th>\n",
              "      <th>L4</th>\n",
              "      <th>H4</th>\n",
              "      <th>S4</th>\n",
              "      <th>V4</th>\n",
              "      <th>X4</th>\n",
              "      <th>D4</th>\n",
              "      <th>N4</th>\n",
              "      <th>T5</th>\n",
              "      <th>L5</th>\n",
              "      <th>H5</th>\n",
              "      <th>S5</th>\n",
              "      <th>V5</th>\n",
              "      <th>X5</th>\n",
              "      <th>D5</th>\n",
              "      <th>N5</th>\n",
              "      <th>T6</th>\n",
              "      <th>L6</th>\n",
              "      <th>H6</th>\n",
              "      <th>S6</th>\n",
              "      <th>V6</th>\n",
              "      <th>X6</th>\n",
              "      <th>D6</th>\n",
              "      <th>N6</th>\n",
              "      <th>GT</th>\n",
              "      <th>DT</th>\n",
              "      <th>KV</th>\n",
              "      <th>DH1</th>\n",
              "      <th>DH2</th>\n",
              "      <th>DH3</th>\n",
              "      <th>KT</th>\n",
              "    </tr>\n",
              "  </thead>\n",
              "  <tbody>\n",
              "    <tr>\n",
              "      <th>0</th>\n",
              "      <td>1</td>\n",
              "      <td>7.2</td>\n",
              "      <td>7.3</td>\n",
              "      <td>6.3</td>\n",
              "      <td>7.3</td>\n",
              "      <td>7.0</td>\n",
              "      <td>7.9</td>\n",
              "      <td>7.3</td>\n",
              "      <td>5.5</td>\n",
              "      <td>8.4</td>\n",
              "      <td>8.9</td>\n",
              "      <td>5.8</td>\n",
              "      <td>9.0</td>\n",
              "      <td>6.6</td>\n",
              "      <td>8.7</td>\n",
              "      <td>7.2</td>\n",
              "      <td>5.8</td>\n",
              "      <td>7.4</td>\n",
              "      <td>7.4</td>\n",
              "      <td>5.2</td>\n",
              "      <td>6.6</td>\n",
              "      <td>6.9</td>\n",
              "      <td>8.9</td>\n",
              "      <td>8.1</td>\n",
              "      <td>5.8</td>\n",
              "      <td>7.2</td>\n",
              "      <td>7.1</td>\n",
              "      <td>5.9</td>\n",
              "      <td>7.2</td>\n",
              "      <td>6.6</td>\n",
              "      <td>5.8</td>\n",
              "      <td>8.1</td>\n",
              "      <td>5.9</td>\n",
              "      <td>7.4</td>\n",
              "      <td>5.6</td>\n",
              "      <td>6.1</td>\n",
              "      <td>5.7</td>\n",
              "      <td>7.9</td>\n",
              "      <td>5.0</td>\n",
              "      <td>7.4</td>\n",
              "      <td>5.0</td>\n",
              "      <td>6.9</td>\n",
              "      <td>5.7</td>\n",
              "      <td>6.5</td>\n",
              "      <td>7.2</td>\n",
              "      <td>8.4</td>\n",
              "      <td>6.6</td>\n",
              "      <td>7.6</td>\n",
              "      <td>5.9</td>\n",
              "      <td>F</td>\n",
              "      <td>NaN</td>\n",
              "      <td>2NT</td>\n",
              "      <td>3.25</td>\n",
              "      <td>3.25</td>\n",
              "      <td>4.50</td>\n",
              "      <td>A1</td>\n",
              "    </tr>\n",
              "    <tr>\n",
              "      <th>1</th>\n",
              "      <td>2</td>\n",
              "      <td>5.4</td>\n",
              "      <td>3.9</td>\n",
              "      <td>3.9</td>\n",
              "      <td>4.0</td>\n",
              "      <td>5.4</td>\n",
              "      <td>5.4</td>\n",
              "      <td>5.3</td>\n",
              "      <td>2.8</td>\n",
              "      <td>6.3</td>\n",
              "      <td>5.4</td>\n",
              "      <td>3.2</td>\n",
              "      <td>7.2</td>\n",
              "      <td>5.4</td>\n",
              "      <td>6.1</td>\n",
              "      <td>4.7</td>\n",
              "      <td>4.7</td>\n",
              "      <td>4.3</td>\n",
              "      <td>3.8</td>\n",
              "      <td>3.7</td>\n",
              "      <td>3.7</td>\n",
              "      <td>5.2</td>\n",
              "      <td>6.6</td>\n",
              "      <td>5.8</td>\n",
              "      <td>4.4</td>\n",
              "      <td>4.9</td>\n",
              "      <td>2.8</td>\n",
              "      <td>5.1</td>\n",
              "      <td>4.5</td>\n",
              "      <td>5.6</td>\n",
              "      <td>7.0</td>\n",
              "      <td>7.6</td>\n",
              "      <td>4.7</td>\n",
              "      <td>3.0</td>\n",
              "      <td>4.6</td>\n",
              "      <td>4.4</td>\n",
              "      <td>4.9</td>\n",
              "      <td>4.3</td>\n",
              "      <td>6.3</td>\n",
              "      <td>6.7</td>\n",
              "      <td>4.4</td>\n",
              "      <td>4.0</td>\n",
              "      <td>5.4</td>\n",
              "      <td>4.0</td>\n",
              "      <td>5.2</td>\n",
              "      <td>5.5</td>\n",
              "      <td>6.6</td>\n",
              "      <td>6.1</td>\n",
              "      <td>4.4</td>\n",
              "      <td>M</td>\n",
              "      <td>NaN</td>\n",
              "      <td>1</td>\n",
              "      <td>6.00</td>\n",
              "      <td>4.00</td>\n",
              "      <td>3.50</td>\n",
              "      <td>C</td>\n",
              "    </tr>\n",
              "    <tr>\n",
              "      <th>2</th>\n",
              "      <td>3</td>\n",
              "      <td>5.6</td>\n",
              "      <td>6.8</td>\n",
              "      <td>7.2</td>\n",
              "      <td>7.5</td>\n",
              "      <td>4.3</td>\n",
              "      <td>7.4</td>\n",
              "      <td>5.8</td>\n",
              "      <td>3.2</td>\n",
              "      <td>5.0</td>\n",
              "      <td>4.9</td>\n",
              "      <td>6.2</td>\n",
              "      <td>6.1</td>\n",
              "      <td>5.3</td>\n",
              "      <td>7.1</td>\n",
              "      <td>4.0</td>\n",
              "      <td>4.9</td>\n",
              "      <td>2.8</td>\n",
              "      <td>6.3</td>\n",
              "      <td>6.2</td>\n",
              "      <td>5.6</td>\n",
              "      <td>2.5</td>\n",
              "      <td>5.8</td>\n",
              "      <td>5.1</td>\n",
              "      <td>3.7</td>\n",
              "      <td>6.1</td>\n",
              "      <td>6.1</td>\n",
              "      <td>5.8</td>\n",
              "      <td>6.8</td>\n",
              "      <td>4.0</td>\n",
              "      <td>6.4</td>\n",
              "      <td>5.3</td>\n",
              "      <td>4.1</td>\n",
              "      <td>4.8</td>\n",
              "      <td>5.1</td>\n",
              "      <td>6.4</td>\n",
              "      <td>5.1</td>\n",
              "      <td>4.0</td>\n",
              "      <td>6.9</td>\n",
              "      <td>3.9</td>\n",
              "      <td>3.2</td>\n",
              "      <td>5.7</td>\n",
              "      <td>6.6</td>\n",
              "      <td>6.8</td>\n",
              "      <td>6.8</td>\n",
              "      <td>4.1</td>\n",
              "      <td>7.9</td>\n",
              "      <td>8.1</td>\n",
              "      <td>4.6</td>\n",
              "      <td>M</td>\n",
              "      <td>NaN</td>\n",
              "      <td>1</td>\n",
              "      <td>5.00</td>\n",
              "      <td>6.75</td>\n",
              "      <td>4.00</td>\n",
              "      <td>C</td>\n",
              "    </tr>\n",
              "    <tr>\n",
              "      <th>3</th>\n",
              "      <td>4</td>\n",
              "      <td>6.6</td>\n",
              "      <td>6.4</td>\n",
              "      <td>5.3</td>\n",
              "      <td>6.9</td>\n",
              "      <td>5.4</td>\n",
              "      <td>7.3</td>\n",
              "      <td>6.4</td>\n",
              "      <td>5.8</td>\n",
              "      <td>5.1</td>\n",
              "      <td>6.2</td>\n",
              "      <td>5.5</td>\n",
              "      <td>5.5</td>\n",
              "      <td>4.4</td>\n",
              "      <td>6.5</td>\n",
              "      <td>4.9</td>\n",
              "      <td>4.4</td>\n",
              "      <td>5.9</td>\n",
              "      <td>7.3</td>\n",
              "      <td>5.9</td>\n",
              "      <td>4.9</td>\n",
              "      <td>5.7</td>\n",
              "      <td>6.8</td>\n",
              "      <td>6.8</td>\n",
              "      <td>5.4</td>\n",
              "      <td>4.1</td>\n",
              "      <td>4.4</td>\n",
              "      <td>4.1</td>\n",
              "      <td>7.3</td>\n",
              "      <td>5.3</td>\n",
              "      <td>7.1</td>\n",
              "      <td>7.3</td>\n",
              "      <td>5.6</td>\n",
              "      <td>6.1</td>\n",
              "      <td>4.9</td>\n",
              "      <td>5.3</td>\n",
              "      <td>4.0</td>\n",
              "      <td>6.2</td>\n",
              "      <td>5.5</td>\n",
              "      <td>5.9</td>\n",
              "      <td>6.5</td>\n",
              "      <td>7.4</td>\n",
              "      <td>5.6</td>\n",
              "      <td>6.6</td>\n",
              "      <td>6.8</td>\n",
              "      <td>6.6</td>\n",
              "      <td>7.1</td>\n",
              "      <td>7.3</td>\n",
              "      <td>7.4</td>\n",
              "      <td>M</td>\n",
              "      <td>NaN</td>\n",
              "      <td>1</td>\n",
              "      <td>4.25</td>\n",
              "      <td>4.25</td>\n",
              "      <td>5.25</td>\n",
              "      <td>D1</td>\n",
              "    </tr>\n",
              "    <tr>\n",
              "      <th>4</th>\n",
              "      <td>5</td>\n",
              "      <td>6.0</td>\n",
              "      <td>5.0</td>\n",
              "      <td>6.0</td>\n",
              "      <td>7.3</td>\n",
              "      <td>6.5</td>\n",
              "      <td>7.7</td>\n",
              "      <td>7.9</td>\n",
              "      <td>6.1</td>\n",
              "      <td>5.4</td>\n",
              "      <td>5.5</td>\n",
              "      <td>5.9</td>\n",
              "      <td>7.5</td>\n",
              "      <td>6.5</td>\n",
              "      <td>6.9</td>\n",
              "      <td>7.6</td>\n",
              "      <td>6.4</td>\n",
              "      <td>7.6</td>\n",
              "      <td>7.6</td>\n",
              "      <td>6.7</td>\n",
              "      <td>6.6</td>\n",
              "      <td>5.7</td>\n",
              "      <td>7.9</td>\n",
              "      <td>7.4</td>\n",
              "      <td>7.3</td>\n",
              "      <td>4.4</td>\n",
              "      <td>6.5</td>\n",
              "      <td>5.6</td>\n",
              "      <td>8.3</td>\n",
              "      <td>6.2</td>\n",
              "      <td>4.9</td>\n",
              "      <td>8.6</td>\n",
              "      <td>7.7</td>\n",
              "      <td>6.8</td>\n",
              "      <td>5.4</td>\n",
              "      <td>4.7</td>\n",
              "      <td>5.0</td>\n",
              "      <td>5.1</td>\n",
              "      <td>7.0</td>\n",
              "      <td>7.0</td>\n",
              "      <td>6.3</td>\n",
              "      <td>8.0</td>\n",
              "      <td>6.2</td>\n",
              "      <td>6.8</td>\n",
              "      <td>6.9</td>\n",
              "      <td>6.6</td>\n",
              "      <td>6.1</td>\n",
              "      <td>7.5</td>\n",
              "      <td>7.2</td>\n",
              "      <td>M</td>\n",
              "      <td>NaN</td>\n",
              "      <td>2NT</td>\n",
              "      <td>4.25</td>\n",
              "      <td>4.50</td>\n",
              "      <td>5.00</td>\n",
              "      <td>A</td>\n",
              "    </tr>\n",
              "  </tbody>\n",
              "</table>\n",
              "</div>"
            ],
            "text/plain": [
              "   STT   T1   L1   H1   S1   V1   X1  ...  GT  DT   KV   DH1   DH2   DH3  KT\n",
              "0    1  7.2  7.3  6.3  7.3  7.0  7.9  ...   F NaN  2NT  3.25  3.25  4.50  A1\n",
              "1    2  5.4  3.9  3.9  4.0  5.4  5.4  ...   M NaN    1  6.00  4.00  3.50   C\n",
              "2    3  5.6  6.8  7.2  7.5  4.3  7.4  ...   M NaN    1  5.00  6.75  4.00   C\n",
              "3    4  6.6  6.4  5.3  6.9  5.4  7.3  ...   M NaN    1  4.25  4.25  5.25  D1\n",
              "4    5  6.0  5.0  6.0  7.3  6.5  7.7  ...   M NaN  2NT  4.25  4.50  5.00   A\n",
              "\n",
              "[5 rows x 56 columns]"
            ]
          },
          "metadata": {
            "tags": []
          },
          "execution_count": 2
        }
      ]
    },
    {
      "cell_type": "code",
      "metadata": {
        "id": "5H2XQoL1VNgt"
      },
      "source": [
        "#Input\n",
        "X = df[['L1', 'L2', 'L3', 'L4', 'L5']]\n",
        "#Ouput\n",
        "y = df.L6\n",
        "# need to split data with % train and"
      ],
      "execution_count": null,
      "outputs": []
    },
    {
      "cell_type": "code",
      "metadata": {
        "colab": {
          "base_uri": "https://localhost:8080/"
        },
        "id": "7tmiP1jFVZqu",
        "outputId": "c1f4fe27-6fce-4893-ff34-b1c03ff8451b"
      },
      "source": [
        "import statsmodels.api as sm\n",
        "X_train = sm.tools.add_constant(X)\n",
        "model = sm.OLS(y, X_train).fit()\n",
        "predictions = model.predict(X_train)\n",
        "print(model.summary())"
      ],
      "execution_count": null,
      "outputs": [
        {
          "output_type": "stream",
          "text": [
            "/usr/local/lib/python3.7/dist-packages/statsmodels/tools/_testing.py:19: FutureWarning: pandas.util.testing is deprecated. Use the functions in the public API at pandas.testing instead.\n",
            "  import pandas.util.testing as tm\n"
          ],
          "name": "stderr"
        },
        {
          "output_type": "stream",
          "text": [
            "                            OLS Regression Results                            \n",
            "==============================================================================\n",
            "Dep. Variable:                     L6   R-squared:                       0.447\n",
            "Model:                            OLS   Adj. R-squared:                  0.418\n",
            "Method:                 Least Squares   F-statistic:                     15.20\n",
            "Date:                Sun, 30 May 2021   Prob (F-statistic):           6.26e-11\n",
            "Time:                        00:46:42   Log-Likelihood:                -115.83\n",
            "No. Observations:                 100   AIC:                             243.7\n",
            "Df Residuals:                      94   BIC:                             259.3\n",
            "Df Model:                           5                                         \n",
            "Covariance Type:            nonrobust                                         \n",
            "==============================================================================\n",
            "                 coef    std err          t      P>|t|      [0.025      0.975]\n",
            "------------------------------------------------------------------------------\n",
            "const          2.5213      0.510      4.941      0.000       1.508       3.535\n",
            "L1             0.1230      0.084      1.470      0.145      -0.043       0.289\n",
            "L2             0.1625      0.098      1.656      0.101      -0.032       0.357\n",
            "L3             0.0425      0.096      0.443      0.659      -0.148       0.233\n",
            "L4             0.0756      0.089      0.852      0.397      -0.101       0.252\n",
            "L5             0.3140      0.094      3.355      0.001       0.128       0.500\n",
            "==============================================================================\n",
            "Omnibus:                        0.667   Durbin-Watson:                   2.248\n",
            "Prob(Omnibus):                  0.716   Jarque-Bera (JB):                0.796\n",
            "Skew:                          -0.126   Prob(JB):                        0.672\n",
            "Kurtosis:                       2.643   Cond. No.                         89.4\n",
            "==============================================================================\n",
            "\n",
            "Warnings:\n",
            "[1] Standard Errors assume that the covariance matrix of the errors is correctly specified.\n"
          ],
          "name": "stdout"
        }
      ]
    },
    {
      "cell_type": "code",
      "metadata": {
        "id": "DNfCNLezXNpv"
      },
      "source": [
        "#95% -> 99%\n",
        "# p-value = 0.01 -> 0.05 (approve - reject null hypothesis)\n",
        "# 1.R-square -> \n",
        "# adj. R-square(most base on this) = 0.418 -> 41.8% variable dependent(41.8% biến phụ thuộc) \n",
        "# explain 41.8% variation on L6 (41.8% sự biên thiên trên L6)\n",
        "# 2. Prob (G-statistic)\n",
        "# p-value ~ 0.000 < 0.05 => (mức độ phù hợp của mô hình được lựa chọn hay nói cách khác, mô hình có phù hợp với dữ liệu hay không)\n",
        "# 3. P > |t| \n",
        "# (L5) --> p-value = 0.001 < 0.05\n",
        "#(L1, L2, L3, L4) --> p-value > 0.05 (sometime in many case removed variable not a good choice)\n",
        "# 4. Durbin Watson: 2.248 ->> [1,3] check correlation : not correlation ( nếu có sự tương quan trong phần dư -> mô hình OLS không còn đáng tin cậy nữa)\n",
        "# 5. VIF ( Variance Inflation Factor)\n"
      ],
      "execution_count": null,
      "outputs": []
    },
    {
      "cell_type": "code",
      "metadata": {
        "id": "U0SbmGawZnbF"
      },
      "source": [
        "from patsy import dmatrices\n",
        "from statsmodels.stats.outliers_influence import variance_inflation_factor\n",
        "\n",
        "yy, XX = dmatrices('L6~ L1+L2+L3+L4+L5', data = pd.concat([y,X], axis =1), return_type = 'dataframe')"
      ],
      "execution_count": null,
      "outputs": []
    },
    {
      "cell_type": "code",
      "metadata": {
        "colab": {
          "base_uri": "https://localhost:8080/"
        },
        "id": "hs085fwmjDTY",
        "outputId": "659ac4dc-bec9-490b-9506-ceeda1b399fc"
      },
      "source": [
        "#Calc VIf\n",
        "vif = pd.DataFrame()\n",
        "vif['variable'] = XX.columns\n",
        "vif['VIF'] = [variance_inflation_factor(XX.values, i) for i in range(XX.shape[1])]\n",
        "print(vif)"
      ],
      "execution_count": null,
      "outputs": [
        {
          "output_type": "stream",
          "text": [
            "    variable        VIF\n",
            "0  Intercept  41.230334\n",
            "1         L1   1.735380\n",
            "2         L2   2.103479\n",
            "3         L3   2.323726\n",
            "4         L4   2.125512\n",
            "5         L5   1.764079\n"
          ],
          "name": "stdout"
        }
      ]
    },
    {
      "cell_type": "code",
      "metadata": {
        "id": "uSoRAJvRj3ii"
      },
      "source": [
        "#VIF?\n",
        "# dùng để kiếm tra các biến độc lập có tương quán tuyến tích với nhau hay không\n",
        "# nếu như vif nhỏ hơn 10 thì không có hiện tượng đa cộng tuyến (hay nói cách khác các biến không có tương quán tuyến tính với nhau)\n",
        "# -> để biểu diễn các biến có tính tương quan với nhau"
      ],
      "execution_count": null,
      "outputs": []
    },
    {
      "cell_type": "code",
      "metadata": {
        "id": "FaOZ8ccElP9F"
      },
      "source": [
        "#6. Kiểm định Li có sai sót trong đo lường không ?\n",
        "#--> thứ cấp --> kcó sai sót trong đo lường --> pass"
      ],
      "execution_count": null,
      "outputs": []
    },
    {
      "cell_type": "code",
      "metadata": {
        "colab": {
          "base_uri": "https://localhost:8080/"
        },
        "id": "yHw7ufjolmFL",
        "outputId": "63cee0bf-170f-4d04-fcaf-b9194a16f9b9"
      },
      "source": [
        "#7. Phần dư (residual) có phân phối chuẩn ?\n",
        "from scipy import stats\n",
        "import seaborn as sns\n",
        "import matplotlib.pyplot as plt\n",
        "\n",
        "print(model.resid.describe())"
      ],
      "execution_count": null,
      "outputs": [
        {
          "output_type": "stream",
          "text": [
            "count    1.000000e+02\n",
            "mean     1.354472e-13\n",
            "std      7.744114e-01\n",
            "min     -1.774543e+00\n",
            "25%     -5.084335e-01\n",
            "50%      5.493145e-03\n",
            "75%      4.871793e-01\n",
            "max      1.756854e+00\n",
            "dtype: float64\n"
          ],
          "name": "stdout"
        }
      ]
    },
    {
      "cell_type": "code",
      "metadata": {
        "colab": {
          "base_uri": "https://localhost:8080/",
          "height": 316
        },
        "id": "5eTt955tm1Ki",
        "outputId": "0b648ab2-a34f-4183-c89b-469cdbad9377"
      },
      "source": [
        "sns.distplot(model.resid, fit = stats.norm)\n",
        "plt.show()"
      ],
      "execution_count": null,
      "outputs": [
        {
          "output_type": "stream",
          "text": [
            "/usr/local/lib/python3.7/dist-packages/seaborn/distributions.py:2557: FutureWarning: `distplot` is a deprecated function and will be removed in a future version. Please adapt your code to use either `displot` (a figure-level function with similar flexibility) or `histplot` (an axes-level function for histograms).\n",
            "  warnings.warn(msg, FutureWarning)\n"
          ],
          "name": "stderr"
        },
        {
          "output_type": "display_data",
          "data": {
            "image/png": "[encoded data removed]",
            "text/plain": [
              "<Figure size 432x288 with 1 Axes>"
            ]
          },
          "metadata": {
            "tags": [],
            "needs_background": "light"
          }
        }
      ]
    },
    {
      "cell_type": "code",
      "metadata": {
        "colab": {
          "base_uri": "https://localhost:8080/",
          "height": 332
        },
        "id": "BKm9sin5m7CJ",
        "outputId": "27c8e044-2baf-492c-cbf8-6d7ef2d630fd"
      },
      "source": [
        "sns.boxplot(model.resid, showmeans = True)"
      ],
      "execution_count": null,
      "outputs": [
        {
          "output_type": "stream",
          "text": [
            "/usr/local/lib/python3.7/dist-packages/seaborn/_decorators.py:43: FutureWarning: Pass the following variable as a keyword arg: x. From version 0.12, the only valid positional argument will be `data`, and passing other arguments without an explicit keyword will result in an error or misinterpretation.\n",
            "  FutureWarning\n"
          ],
          "name": "stderr"
        },
        {
          "output_type": "execute_result",
          "data": {
            "text/plain": [
              "<matplotlib.axes._subplots.AxesSubplot at 0x7fb9a420c990>"
            ]
          },
          "metadata": {
            "tags": []
          },
          "execution_count": 12
        },
        {
          "output_type": "display_data",
          "data": {
            "image/png": "[encoded data removed]",
            "text/plain": [
              "<Figure size 432x288 with 1 Axes>"
            ]
          },
          "metadata": {
            "tags": [],
            "needs_background": "light"
          }
        }
      ]
    },
    {
      "cell_type": "code",
      "metadata": {
        "colab": {
          "base_uri": "https://localhost:8080/",
          "height": 538
        },
        "id": "3-OLZNcIv8U_",
        "outputId": "9d58c7a8-1568-413c-c9d1-452532d491bc"
      },
      "source": [
        "sm.qqplot(model.resid, line = 's')"
      ],
      "execution_count": null,
      "outputs": [
        {
          "output_type": "execute_result",
          "data": {
            "image/png": "[encoded data removed]",
            "text/plain": [
              "<Figure size 432x288 with 1 Axes>"
            ]
          },
          "metadata": {
            "tags": []
          },
          "execution_count": 14
        },
        {
          "output_type": "display_data",
          "data": {
            "image/png": "[encoded data removed]",
            "text/plain": [
              "<Figure size 432x288 with 1 Axes>"
            ]
          },
          "metadata": {
            "tags": [],
            "needs_background": "light"
          }
        }
      ]
    },
    {
      "cell_type": "code",
      "metadata": {
        "colab": {
          "base_uri": "https://localhost:8080/",
          "height": 475
        },
        "id": "Zj29uDE2wYv4",
        "outputId": "5c3e4caf-b00c-401c-d966-5117fa185414"
      },
      "source": [
        "#8. Kiểm định phương sai phần dư thay đổi\n",
        "fig = plt.figure(figsize = (12,8))\n",
        "fig = sm.graphics.plot_regress_exog(model, 'L1', fig = fig)\n",
        "# Nếu các điểm nằm phân bổ rộng và không sát so với trục giữa thì nó không thay đổi (pass) và ngược lại"
      ],
      "execution_count": null,
      "outputs": [
        {
          "output_type": "display_data",
          "data": {
            "image/png": "[encoded data removed]",
            "text/plain": [
              "<Figure size 864x576 with 4 Axes>"
            ]
          },
          "metadata": {
            "tags": [],
            "needs_background": "light"
          }
        }
      ]
    },
    {
      "cell_type": "code",
      "metadata": {
        "colab": {
          "base_uri": "https://localhost:8080/",
          "height": 330
        },
        "id": "v5YHOPyswzFy",
        "outputId": "691712b3-3dd1-4033-cc20-26f3dc1d9e0c"
      },
      "source": [
        "#Đánh giá mô hình\n",
        "Y_max = y.max()\n",
        "Y_min = y.min()\n",
        "\n",
        "ax = sns.scatterplot(model.fittedvalues, y)\n",
        "ax.set(ylim = (Y_min, Y_max))\n",
        "ax.set(xlim = (Y_min, Y_max))\n",
        "\n",
        "ax.set_xlabel('Predicted value')\n",
        "ax.set_ylabel('Actual val\n",
        "\n",
        "X_ref = Y_ref = np.linspace(Y_min, Y_max, 100) #phát s\n",
        "\n",
        "plt.plot(X_ref, Y_ref, color = 'red', linewidth = 1)\n",
        "plt.show()"
      ],
      "execution_count": null,
      "outputs": [
        {
          "output_type": "stream",
          "text": [
            "/usr/local/lib/python3.7/dist-packages/seaborn/_decorators.py:43: FutureWarning: Pass the following variables as keyword args: x, y. From version 0.12, the only valid positional argument will be `data`, and passing other arguments without an explicit keyword will result in an error or misinterpretation.\n",
            "  FutureWarning\n"
          ],
          "name": "stderr"
        },
        {
          "output_type": "display_data",
          "data": {
            "image/png": "[encoded data removed]",
            "text/plain": [
              "<Figure size 432x288 with 1 Axes>"
            ]
          },
          "metadata": {
            "tags": [],
            "needs_background": "light"
          }
        }
      ]
    },
    {
      "cell_type": "code",
      "metadata": {
        "id": "-O2eDAUg1dkk",
        "colab": {
          "base_uri": "https://localhost:8080/",
          "height": 810
        },
        "outputId": "407c2c16-4873-42e4-f73b-c70f363eb1a4"
      },
      "source": [
        "#10.Tornado (là dạng biểu đồ dùng để đánh giá mức độ tác động các biến số lên mô hình) \n",
        "#Standardization\n",
        "X_norm = pd.DataFrame(stats.zscore(X), columns = X.columns)\n",
        "X_norm = sm.add_constant(X_norm)\n",
        "\n",
        "y_norm = pd.Series(stats.zscore(y), name = y.name)\n",
        "model_stand = sm.OLS(y_norm, X_norm)\n",
        "model_stand_res = model_stand.fit()\n",
        "print(model_stand_res.summary())\n",
        "\n",
        "coeff = model_stand_res.params\n",
        "coeff = coeff.iloc[(coeff.abs()*(-1.0)).argsort()] #sort data\n",
        "\n",
        "sns.barplot(coeff.values, coeff.index, orient = 'h')"
      ],
      "execution_count": null,
      "outputs": [
        {
          "output_type": "stream",
          "text": [
            "                            OLS Regression Results                            \n",
            "==============================================================================\n",
            "Dep. Variable:                     L6   R-squared:                       0.447\n",
            "Model:                            OLS   Adj. R-squared:                  0.418\n",
            "Method:                 Least Squares   F-statistic:                     15.20\n",
            "Date:                Sun, 30 May 2021   Prob (F-statistic):           6.26e-11\n",
            "Time:                        02:48:13   Log-Likelihood:                -112.26\n",
            "No. Observations:                 100   AIC:                             236.5\n",
            "Df Residuals:                      94   BIC:                             252.2\n",
            "Df Model:                           5                                         \n",
            "Covariance Type:            nonrobust                                         \n",
            "==============================================================================\n",
            "                 coef    std err          t      P>|t|      [0.025      0.975]\n",
            "------------------------------------------------------------------------------\n",
            "const      -9.021e-16      0.077  -1.18e-14      1.000      -0.152       0.152\n",
            "L1             0.1485      0.101      1.470      0.145      -0.052       0.349\n",
            "L2             0.1842      0.111      1.656      0.101      -0.037       0.405\n",
            "L3             0.0518      0.117      0.443      0.659      -0.180       0.284\n",
            "L4             0.0952      0.112      0.852      0.397      -0.127       0.317\n",
            "L5             0.3417      0.102      3.355      0.001       0.139       0.544\n",
            "==============================================================================\n",
            "Omnibus:                        0.667   Durbin-Watson:                   2.248\n",
            "Prob(Omnibus):                  0.716   Jarque-Bera (JB):                0.796\n",
            "Skew:                          -0.126   Prob(JB):                        0.672\n",
            "Kurtosis:                       2.643   Cond. No.                         3.31\n",
            "==============================================================================\n",
            "\n",
            "Warnings:\n",
            "[1] Standard Errors assume that the covariance matrix of the errors is correctly specified.\n"
          ],
          "name": "stdout"
        },
        {
          "output_type": "stream",
          "text": [
            "/usr/local/lib/python3.7/dist-packages/seaborn/_decorators.py:43: FutureWarning: Pass the following variables as keyword args: x, y. From version 0.12, the only valid positional argument will be `data`, and passing other arguments without an explicit keyword will result in an error or misinterpretation.\n",
            "  FutureWarning\n"
          ],
          "name": "stderr"
        },
        {
          "output_type": "execute_result",
          "data": {
            "text/plain": [
              "<matplotlib.axes._subplots.AxesSubplot at 0x7fb9a14c4f10>"
            ]
          },
          "metadata": {
            "tags": []
          },
          "execution_count": 26
        },
        {
          "output_type": "display_data",
          "data": {
            "image/png": "[encoded data removed]",
            "text/plain": [
              "<Figure size 432x288 with 1 Axes>"
            ]
          },
          "metadata": {
            "tags": [],
            "needs_background": "light"
          }
        }
      ]
    },
    {
      "cell_type": "code",
      "metadata": {
        "colab": {
          "base_uri": "https://localhost:8080/"
        },
        "id": "2k-8ymohKhuD",
        "outputId": "86523f83-8224-4d4a-b565-052888b88182"
      },
      "source": [
        "#11. Model ( dùng kết quả chưa chuẩn hoá)\n",
        "from sklearn.linear_model import LinearRegression\n",
        "from mlxtend.feature_selection import SequentialFeatureSelector as SFS\n",
        "from mlxtend.plotting import plot_sequential_feature_selection as plot_sfs\n",
        "\n",
        "mod = LinearRegression()\n",
        "mod.fit(X,y)\n",
        "coef = pd.concat([pd.Series(X.columns), pd.Series(mod.coef_)], axis = 1)\n",
        "coef.columns = ['variables', 'cofficient']\n",
        "\n",
        "print(coef)"
      ],
      "execution_count": null,
      "outputs": [
        {
          "output_type": "stream",
          "text": [
            "  variables  cofficient\n",
            "0        L1    0.122976\n",
            "1        L2    0.162455\n",
            "2        L3    0.042506\n",
            "3        L4    0.075591\n",
            "4        L5    0.314004\n"
          ],
          "name": "stdout"
        }
      ]
    },
    {
      "cell_type": "code",
      "metadata": {
        "id": "PcLcCkXnOJax"
      },
      "source": [
        "sfs = SFS(mod, k_features='best', \n",
        "          forward = False, \n",
        "          floating = False, \n",
        "          scoring = 'r2',\n",
        "          cv = 30)\n",
        "sfs = sfs.fit(X,y)\n",
        "\n",
        "plot_sfs(sfs.get_metric_dict(), kind = 'std_err')\n",
        "plt.grid()\n",
        "plt.show()"
      ],
      "execution_count": null,
      "outputs": []
    },
    {
      "cell_type": "code",
      "metadata": {
        "id": "uYuCUcanPIfN"
      },
      "source": [
        "number_features = 2\n",
        "print(sfs.subsets_[number_features].get('feature_names'))"
      ],
      "execution_count": null,
      "outputs": []
    },
    {
      "cell_type": "code",
      "metadata": {
        "id": "DyWNidSHYHOV"
      },
      "source": [
        ""
      ],
      "execution_count": null,
      "outputs": []
    }
  ]
}
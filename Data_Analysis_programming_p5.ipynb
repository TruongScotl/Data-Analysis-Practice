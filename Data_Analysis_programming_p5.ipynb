{
  "nbformat": 4,
  "nbformat_minor": 0,
  "metadata": {
    "colab": {
      "name": "Data_Analysis_programming_p5.ipynb",
      "provenance": [],
      "collapsed_sections": [],
      "authorship_tag": "ABX9TyOqwHpIF/lXLRtEuo/LAuSg",
      "include_colab_link": true
    },
    "kernelspec": {
      "name": "python3",
      "display_name": "Python 3"
    },
    "language_info": {
      "name": "python"
    }
  },
  "cells": [
    {
      "cell_type": "markdown",
      "metadata": {
        "id": "view-in-github",
        "colab_type": "text"
      },
      "source": [
        "<a href=\"https://colab.research.google.com/github/TruongScotl/Data-Analysis-Practice/blob/main/Data_Analysis_programming_p5.ipynb\" target=\"_parent\"><img src=\"https://colab.research.google.com/assets/colab-badge.svg\" alt=\"Open In Colab\"/></a>"
      ]
    },
    {
      "cell_type": "markdown",
      "metadata": {
        "id": "vloiNroAyZ0g"
      },
      "source": [
        "Theo kết quả của BGD\n",
        "*  KQ điểm sàn (DH1 + DH2 + DH3)/3\n",
        "*  Nếu kết quả >= 15.0 => đạt sàn\n",
        "*  Nếu kết qủa < 15.0 => không đạt sàn\n",
        "*  Nếu như biết T5, T6, GT, KV, DT, KT\n",
        "*   => học sinh có đạt sàn không ?\n",
        "*  Build model decision Tree\n",
        "*  KQ = f(T5,T6,GT,KV,DT,KT)"
      ]
    },
    {
      "cell_type": "code",
      "metadata": {
        "id": "o0JFCu2XyEyL"
      },
      "source": [
        "import pandas as pd\n",
        "import numpy as np"
      ],
      "execution_count": 1,
      "outputs": []
    },
    {
      "cell_type": "code",
      "metadata": {
        "colab": {
          "base_uri": "https://localhost:8080/",
          "height": 221
        },
        "id": "HwU8qn0IzgGk",
        "outputId": "fe1c8a2a-fcdc-4d1e-bf60-a27dd9dcffd7"
      },
      "source": [
        "df = pd.read_csv('/content/dulieuxettuyendaihoc.csv', header =0, delimiter =',')\n",
        "df.head(5)"
      ],
      "execution_count": 2,
      "outputs": [
        {
          "output_type": "execute_result",
          "data": {
            "text/html": [
              "<div>\n",
              "<style scoped>\n",
              "    .dataframe tbody tr th:only-of-type {\n",
              "        vertical-align: middle;\n",
              "    }\n",
              "\n",
              "    .dataframe tbody tr th {\n",
              "        vertical-align: top;\n",
              "    }\n",
              "\n",
              "    .dataframe thead th {\n",
              "        text-align: right;\n",
              "    }\n",
              "</style>\n",
              "<table border=\"1\" class=\"dataframe\">\n",
              "  <thead>\n",
              "    <tr style=\"text-align: right;\">\n",
              "      <th></th>\n",
              "      <th>STT</th>\n",
              "      <th>T1</th>\n",
              "      <th>L1</th>\n",
              "      <th>H1</th>\n",
              "      <th>S1</th>\n",
              "      <th>V1</th>\n",
              "      <th>X1</th>\n",
              "      <th>D1</th>\n",
              "      <th>N1</th>\n",
              "      <th>T2</th>\n",
              "      <th>L2</th>\n",
              "      <th>H2</th>\n",
              "      <th>S2</th>\n",
              "      <th>V2</th>\n",
              "      <th>X2</th>\n",
              "      <th>D2</th>\n",
              "      <th>N2</th>\n",
              "      <th>T3</th>\n",
              "      <th>L3</th>\n",
              "      <th>H3</th>\n",
              "      <th>S3</th>\n",
              "      <th>V3</th>\n",
              "      <th>X3</th>\n",
              "      <th>D3</th>\n",
              "      <th>N3</th>\n",
              "      <th>T4</th>\n",
              "      <th>L4</th>\n",
              "      <th>H4</th>\n",
              "      <th>S4</th>\n",
              "      <th>V4</th>\n",
              "      <th>X4</th>\n",
              "      <th>D4</th>\n",
              "      <th>N4</th>\n",
              "      <th>T5</th>\n",
              "      <th>L5</th>\n",
              "      <th>H5</th>\n",
              "      <th>S5</th>\n",
              "      <th>V5</th>\n",
              "      <th>X5</th>\n",
              "      <th>D5</th>\n",
              "      <th>N5</th>\n",
              "      <th>T6</th>\n",
              "      <th>L6</th>\n",
              "      <th>H6</th>\n",
              "      <th>S6</th>\n",
              "      <th>V6</th>\n",
              "      <th>X6</th>\n",
              "      <th>D6</th>\n",
              "      <th>N6</th>\n",
              "      <th>GT</th>\n",
              "      <th>DT</th>\n",
              "      <th>KV</th>\n",
              "      <th>DH1</th>\n",
              "      <th>DH2</th>\n",
              "      <th>DH3</th>\n",
              "      <th>KT</th>\n",
              "    </tr>\n",
              "  </thead>\n",
              "  <tbody>\n",
              "    <tr>\n",
              "      <th>0</th>\n",
              "      <td>1</td>\n",
              "      <td>7.2</td>\n",
              "      <td>7.3</td>\n",
              "      <td>6.3</td>\n",
              "      <td>7.3</td>\n",
              "      <td>7.0</td>\n",
              "      <td>7.9</td>\n",
              "      <td>7.3</td>\n",
              "      <td>5.5</td>\n",
              "      <td>8.4</td>\n",
              "      <td>8.9</td>\n",
              "      <td>5.8</td>\n",
              "      <td>9.0</td>\n",
              "      <td>6.6</td>\n",
              "      <td>8.7</td>\n",
              "      <td>7.2</td>\n",
              "      <td>5.8</td>\n",
              "      <td>7.4</td>\n",
              "      <td>7.4</td>\n",
              "      <td>5.2</td>\n",
              "      <td>6.6</td>\n",
              "      <td>6.9</td>\n",
              "      <td>8.9</td>\n",
              "      <td>8.1</td>\n",
              "      <td>5.8</td>\n",
              "      <td>7.2</td>\n",
              "      <td>7.1</td>\n",
              "      <td>5.9</td>\n",
              "      <td>7.2</td>\n",
              "      <td>6.6</td>\n",
              "      <td>5.8</td>\n",
              "      <td>8.1</td>\n",
              "      <td>5.9</td>\n",
              "      <td>7.4</td>\n",
              "      <td>5.6</td>\n",
              "      <td>6.1</td>\n",
              "      <td>5.7</td>\n",
              "      <td>7.9</td>\n",
              "      <td>5.0</td>\n",
              "      <td>7.4</td>\n",
              "      <td>5.0</td>\n",
              "      <td>6.9</td>\n",
              "      <td>5.7</td>\n",
              "      <td>6.5</td>\n",
              "      <td>7.2</td>\n",
              "      <td>8.4</td>\n",
              "      <td>6.6</td>\n",
              "      <td>7.6</td>\n",
              "      <td>5.9</td>\n",
              "      <td>F</td>\n",
              "      <td>NaN</td>\n",
              "      <td>2NT</td>\n",
              "      <td>3.25</td>\n",
              "      <td>3.25</td>\n",
              "      <td>4.50</td>\n",
              "      <td>A1</td>\n",
              "    </tr>\n",
              "    <tr>\n",
              "      <th>1</th>\n",
              "      <td>2</td>\n",
              "      <td>5.4</td>\n",
              "      <td>3.9</td>\n",
              "      <td>3.9</td>\n",
              "      <td>4.0</td>\n",
              "      <td>5.4</td>\n",
              "      <td>5.4</td>\n",
              "      <td>5.3</td>\n",
              "      <td>2.8</td>\n",
              "      <td>6.3</td>\n",
              "      <td>5.4</td>\n",
              "      <td>3.2</td>\n",
              "      <td>7.2</td>\n",
              "      <td>5.4</td>\n",
              "      <td>6.1</td>\n",
              "      <td>4.7</td>\n",
              "      <td>4.7</td>\n",
              "      <td>4.3</td>\n",
              "      <td>3.8</td>\n",
              "      <td>3.7</td>\n",
              "      <td>3.7</td>\n",
              "      <td>5.2</td>\n",
              "      <td>6.6</td>\n",
              "      <td>5.8</td>\n",
              "      <td>4.4</td>\n",
              "      <td>4.9</td>\n",
              "      <td>2.8</td>\n",
              "      <td>5.1</td>\n",
              "      <td>4.5</td>\n",
              "      <td>5.6</td>\n",
              "      <td>7.0</td>\n",
              "      <td>7.6</td>\n",
              "      <td>4.7</td>\n",
              "      <td>3.0</td>\n",
              "      <td>4.6</td>\n",
              "      <td>4.4</td>\n",
              "      <td>4.9</td>\n",
              "      <td>4.3</td>\n",
              "      <td>6.3</td>\n",
              "      <td>6.7</td>\n",
              "      <td>4.4</td>\n",
              "      <td>4.0</td>\n",
              "      <td>5.4</td>\n",
              "      <td>4.0</td>\n",
              "      <td>5.2</td>\n",
              "      <td>5.5</td>\n",
              "      <td>6.6</td>\n",
              "      <td>6.1</td>\n",
              "      <td>4.4</td>\n",
              "      <td>M</td>\n",
              "      <td>NaN</td>\n",
              "      <td>1</td>\n",
              "      <td>6.00</td>\n",
              "      <td>4.00</td>\n",
              "      <td>3.50</td>\n",
              "      <td>C</td>\n",
              "    </tr>\n",
              "    <tr>\n",
              "      <th>2</th>\n",
              "      <td>3</td>\n",
              "      <td>5.6</td>\n",
              "      <td>6.8</td>\n",
              "      <td>7.2</td>\n",
              "      <td>7.5</td>\n",
              "      <td>4.3</td>\n",
              "      <td>7.4</td>\n",
              "      <td>5.8</td>\n",
              "      <td>3.2</td>\n",
              "      <td>5.0</td>\n",
              "      <td>4.9</td>\n",
              "      <td>6.2</td>\n",
              "      <td>6.1</td>\n",
              "      <td>5.3</td>\n",
              "      <td>7.1</td>\n",
              "      <td>4.0</td>\n",
              "      <td>4.9</td>\n",
              "      <td>2.8</td>\n",
              "      <td>6.3</td>\n",
              "      <td>6.2</td>\n",
              "      <td>5.6</td>\n",
              "      <td>2.5</td>\n",
              "      <td>5.8</td>\n",
              "      <td>5.1</td>\n",
              "      <td>3.7</td>\n",
              "      <td>6.1</td>\n",
              "      <td>6.1</td>\n",
              "      <td>5.8</td>\n",
              "      <td>6.8</td>\n",
              "      <td>4.0</td>\n",
              "      <td>6.4</td>\n",
              "      <td>5.3</td>\n",
              "      <td>4.1</td>\n",
              "      <td>4.8</td>\n",
              "      <td>5.1</td>\n",
              "      <td>6.4</td>\n",
              "      <td>5.1</td>\n",
              "      <td>4.0</td>\n",
              "      <td>6.9</td>\n",
              "      <td>3.9</td>\n",
              "      <td>3.2</td>\n",
              "      <td>5.7</td>\n",
              "      <td>6.6</td>\n",
              "      <td>6.8</td>\n",
              "      <td>6.8</td>\n",
              "      <td>4.1</td>\n",
              "      <td>7.9</td>\n",
              "      <td>8.1</td>\n",
              "      <td>4.6</td>\n",
              "      <td>M</td>\n",
              "      <td>NaN</td>\n",
              "      <td>1</td>\n",
              "      <td>5.00</td>\n",
              "      <td>6.75</td>\n",
              "      <td>4.00</td>\n",
              "      <td>C</td>\n",
              "    </tr>\n",
              "    <tr>\n",
              "      <th>3</th>\n",
              "      <td>4</td>\n",
              "      <td>6.6</td>\n",
              "      <td>6.4</td>\n",
              "      <td>5.3</td>\n",
              "      <td>6.9</td>\n",
              "      <td>5.4</td>\n",
              "      <td>7.3</td>\n",
              "      <td>6.4</td>\n",
              "      <td>5.8</td>\n",
              "      <td>5.1</td>\n",
              "      <td>6.2</td>\n",
              "      <td>5.5</td>\n",
              "      <td>5.5</td>\n",
              "      <td>4.4</td>\n",
              "      <td>6.5</td>\n",
              "      <td>4.9</td>\n",
              "      <td>4.4</td>\n",
              "      <td>5.9</td>\n",
              "      <td>7.3</td>\n",
              "      <td>5.9</td>\n",
              "      <td>4.9</td>\n",
              "      <td>5.7</td>\n",
              "      <td>6.8</td>\n",
              "      <td>6.8</td>\n",
              "      <td>5.4</td>\n",
              "      <td>4.1</td>\n",
              "      <td>4.4</td>\n",
              "      <td>4.1</td>\n",
              "      <td>7.3</td>\n",
              "      <td>5.3</td>\n",
              "      <td>7.1</td>\n",
              "      <td>7.3</td>\n",
              "      <td>5.6</td>\n",
              "      <td>6.1</td>\n",
              "      <td>4.9</td>\n",
              "      <td>5.3</td>\n",
              "      <td>4.0</td>\n",
              "      <td>6.2</td>\n",
              "      <td>5.5</td>\n",
              "      <td>5.9</td>\n",
              "      <td>6.5</td>\n",
              "      <td>7.4</td>\n",
              "      <td>5.6</td>\n",
              "      <td>6.6</td>\n",
              "      <td>6.8</td>\n",
              "      <td>6.6</td>\n",
              "      <td>7.1</td>\n",
              "      <td>7.3</td>\n",
              "      <td>7.4</td>\n",
              "      <td>M</td>\n",
              "      <td>NaN</td>\n",
              "      <td>1</td>\n",
              "      <td>4.25</td>\n",
              "      <td>4.25</td>\n",
              "      <td>5.25</td>\n",
              "      <td>D1</td>\n",
              "    </tr>\n",
              "    <tr>\n",
              "      <th>4</th>\n",
              "      <td>5</td>\n",
              "      <td>6.0</td>\n",
              "      <td>5.0</td>\n",
              "      <td>6.0</td>\n",
              "      <td>7.3</td>\n",
              "      <td>6.5</td>\n",
              "      <td>7.7</td>\n",
              "      <td>7.9</td>\n",
              "      <td>6.1</td>\n",
              "      <td>5.4</td>\n",
              "      <td>5.5</td>\n",
              "      <td>5.9</td>\n",
              "      <td>7.5</td>\n",
              "      <td>6.5</td>\n",
              "      <td>6.9</td>\n",
              "      <td>7.6</td>\n",
              "      <td>6.4</td>\n",
              "      <td>7.6</td>\n",
              "      <td>7.6</td>\n",
              "      <td>6.7</td>\n",
              "      <td>6.6</td>\n",
              "      <td>5.7</td>\n",
              "      <td>7.9</td>\n",
              "      <td>7.4</td>\n",
              "      <td>7.3</td>\n",
              "      <td>4.4</td>\n",
              "      <td>6.5</td>\n",
              "      <td>5.6</td>\n",
              "      <td>8.3</td>\n",
              "      <td>6.2</td>\n",
              "      <td>4.9</td>\n",
              "      <td>8.6</td>\n",
              "      <td>7.7</td>\n",
              "      <td>6.8</td>\n",
              "      <td>5.4</td>\n",
              "      <td>4.7</td>\n",
              "      <td>5.0</td>\n",
              "      <td>5.1</td>\n",
              "      <td>7.0</td>\n",
              "      <td>7.0</td>\n",
              "      <td>6.3</td>\n",
              "      <td>8.0</td>\n",
              "      <td>6.2</td>\n",
              "      <td>6.8</td>\n",
              "      <td>6.9</td>\n",
              "      <td>6.6</td>\n",
              "      <td>6.1</td>\n",
              "      <td>7.5</td>\n",
              "      <td>7.2</td>\n",
              "      <td>M</td>\n",
              "      <td>NaN</td>\n",
              "      <td>2NT</td>\n",
              "      <td>4.25</td>\n",
              "      <td>4.50</td>\n",
              "      <td>5.00</td>\n",
              "      <td>A</td>\n",
              "    </tr>\n",
              "  </tbody>\n",
              "</table>\n",
              "</div>"
            ],
            "text/plain": [
              "   STT   T1   L1   H1   S1   V1   X1  ...  GT  DT   KV   DH1   DH2   DH3  KT\n",
              "0    1  7.2  7.3  6.3  7.3  7.0  7.9  ...   F NaN  2NT  3.25  3.25  4.50  A1\n",
              "1    2  5.4  3.9  3.9  4.0  5.4  5.4  ...   M NaN    1  6.00  4.00  3.50   C\n",
              "2    3  5.6  6.8  7.2  7.5  4.3  7.4  ...   M NaN    1  5.00  6.75  4.00   C\n",
              "3    4  6.6  6.4  5.3  6.9  5.4  7.3  ...   M NaN    1  4.25  4.25  5.25  D1\n",
              "4    5  6.0  5.0  6.0  7.3  6.5  7.7  ...   M NaN  2NT  4.25  4.50  5.00   A\n",
              "\n",
              "[5 rows x 56 columns]"
            ]
          },
          "metadata": {
            "tags": []
          },
          "execution_count": 2
        }
      ]
    },
    {
      "cell_type": "code",
      "metadata": {
        "colab": {
          "base_uri": "https://localhost:8080/"
        },
        "id": "BZIcysgezqWR",
        "outputId": "0bdd2599-81b4-49df-d33c-0ba740a76900"
      },
      "source": [
        "df['DT'].fillna('K', inplace = True)\n",
        "df.DT = df.DT.astype(str)\n",
        "\n",
        "df.loc[(df['DH1'] + df['DH2'] + df['DH3']) < 15.0, 'KQ'] = 'Khong Dat'\n",
        "df.loc[(df['DH1'] + df['DH2'] + df['DH3']) >= 15.0, 'KQ'] = 'Dat'\n",
        "\n",
        "print(df[['KQ']])"
      ],
      "execution_count": 3,
      "outputs": [
        {
          "output_type": "stream",
          "text": [
            "           KQ\n",
            "0   Khong Dat\n",
            "1   Khong Dat\n",
            "2         Dat\n",
            "3   Khong Dat\n",
            "4   Khong Dat\n",
            "..        ...\n",
            "95  Khong Dat\n",
            "96  Khong Dat\n",
            "97        Dat\n",
            "98  Khong Dat\n",
            "99  Khong Dat\n",
            "\n",
            "[100 rows x 1 columns]\n"
          ],
          "name": "stdout"
        }
      ]
    },
    {
      "cell_type": "code",
      "metadata": {
        "colab": {
          "base_uri": "https://localhost:8080/"
        },
        "id": "XlLv8JQ20D37",
        "outputId": "5ba2b074-6774-4eab-ab7f-180f5cc016ec"
      },
      "source": [
        "# Input -> Output\n",
        "print(df[['T5', 'T6','GT' , 'KV', 'DT', 'KT', 'KQ']])"
      ],
      "execution_count": 4,
      "outputs": [
        {
          "output_type": "stream",
          "text": [
            "     T5   T6 GT   KV DT  KT         KQ\n",
            "0   7.4  6.9  F  2NT  K  A1  Khong Dat\n",
            "1   3.0  4.0  M    1  K   C  Khong Dat\n",
            "2   4.8  5.7  M    1  K   C        Dat\n",
            "3   6.1  7.4  M    1  K  D1  Khong Dat\n",
            "4   6.8  8.0  M  2NT  K   A  Khong Dat\n",
            "..  ...  ... ..  ... ..  ..        ...\n",
            "95  7.9  6.6  F    1  K   C  Khong Dat\n",
            "96  5.5  5.7  F    1  K   C  Khong Dat\n",
            "97  9.0  8.5  M  2NT  K   C        Dat\n",
            "98  4.1  4.3  M    1  K   C  Khong Dat\n",
            "99  5.6  5.1  M  2NT  K   C  Khong Dat\n",
            "\n",
            "[100 rows x 7 columns]\n"
          ],
          "name": "stdout"
        }
      ]
    },
    {
      "cell_type": "code",
      "metadata": {
        "colab": {
          "base_uri": "https://localhost:8080/"
        },
        "id": "g4HoXuyE09mu",
        "outputId": "7c12f043-75fa-4f36-d533-e9964f65d7cb"
      },
      "source": [
        "#Encoding dữ liêu\n",
        "# string -> số\n",
        "# one-hot-endcode -> đa dạng\n",
        "# mutal\n",
        "map_gt = {'F':0, 'M':1}\n",
        "df['GT'] = df['GT'].map(map_gt)\n",
        "print(df[['T5', 'T6','GT' , 'KV', 'DT', 'KT', 'KQ']])"
      ],
      "execution_count": 5,
      "outputs": [
        {
          "output_type": "stream",
          "text": [
            "     T5   T6  GT   KV DT  KT         KQ\n",
            "0   7.4  6.9   0  2NT  K  A1  Khong Dat\n",
            "1   3.0  4.0   1    1  K   C  Khong Dat\n",
            "2   4.8  5.7   1    1  K   C        Dat\n",
            "3   6.1  7.4   1    1  K  D1  Khong Dat\n",
            "4   6.8  8.0   1  2NT  K   A  Khong Dat\n",
            "..  ...  ...  ..  ... ..  ..        ...\n",
            "95  7.9  6.6   0    1  K   C  Khong Dat\n",
            "96  5.5  5.7   0    1  K   C  Khong Dat\n",
            "97  9.0  8.5   1  2NT  K   C        Dat\n",
            "98  4.1  4.3   1    1  K   C  Khong Dat\n",
            "99  5.6  5.1   1  2NT  K   C  Khong Dat\n",
            "\n",
            "[100 rows x 7 columns]\n"
          ],
          "name": "stdout"
        }
      ]
    },
    {
      "cell_type": "code",
      "metadata": {
        "colab": {
          "base_uri": "https://localhost:8080/"
        },
        "id": "BAZYTwPn1hIG",
        "outputId": "94054e04-94c8-48a1-b80c-9afda1187e63"
      },
      "source": [
        "print(np.unique(df['KV']))"
      ],
      "execution_count": 6,
      "outputs": [
        {
          "output_type": "stream",
          "text": [
            "['1' '2' '2NT']\n"
          ],
          "name": "stdout"
        }
      ]
    },
    {
      "cell_type": "code",
      "metadata": {
        "colab": {
          "base_uri": "https://localhost:8080/"
        },
        "id": "cQl5laUp2Y3l",
        "outputId": "ec13cf62-d3cc-47a3-bc43-da0aefc07911"
      },
      "source": [
        "map_kv = {'1':1,'2':1,'2NT':2}\n",
        "df['KV'] = df['KV'].map(map_kv)\n",
        "print(df[['T5', 'T6','GT' , 'KV', 'DT', 'KT', 'KQ']])"
      ],
      "execution_count": 7,
      "outputs": [
        {
          "output_type": "stream",
          "text": [
            "     T5   T6  GT  KV DT  KT         KQ\n",
            "0   7.4  6.9   0   2  K  A1  Khong Dat\n",
            "1   3.0  4.0   1   1  K   C  Khong Dat\n",
            "2   4.8  5.7   1   1  K   C        Dat\n",
            "3   6.1  7.4   1   1  K  D1  Khong Dat\n",
            "4   6.8  8.0   1   2  K   A  Khong Dat\n",
            "..  ...  ...  ..  .. ..  ..        ...\n",
            "95  7.9  6.6   0   1  K   C  Khong Dat\n",
            "96  5.5  5.7   0   1  K   C  Khong Dat\n",
            "97  9.0  8.5   1   2  K   C        Dat\n",
            "98  4.1  4.3   1   1  K   C  Khong Dat\n",
            "99  5.6  5.1   1   2  K   C  Khong Dat\n",
            "\n",
            "[100 rows x 7 columns]\n"
          ],
          "name": "stdout"
        }
      ]
    },
    {
      "cell_type": "code",
      "metadata": {
        "colab": {
          "base_uri": "https://localhost:8080/"
        },
        "id": "Olqtzp2E2ogu",
        "outputId": "ff3ba7d7-e51d-492d-aefa-238fe69f91ea"
      },
      "source": [
        "print(np.unique(df['DT']))"
      ],
      "execution_count": 8,
      "outputs": [
        {
          "output_type": "stream",
          "text": [
            "['1.0' '6.0' 'K']\n"
          ],
          "name": "stdout"
        }
      ]
    },
    {
      "cell_type": "code",
      "metadata": {
        "colab": {
          "base_uri": "https://localhost:8080/"
        },
        "id": "0DZlwSWA21p3",
        "outputId": "0a17978e-48a4-4600-f23e-97b332b340df"
      },
      "source": [
        "map_dt = {'1.0':1,'6.0':1,'K':2}\n",
        "df['DT'] = df['DT'].map(map_dt)\n",
        "print(df[['T5', 'T6','GT' , 'KV', 'DT', 'KT', 'KQ']])"
      ],
      "execution_count": 9,
      "outputs": [
        {
          "output_type": "stream",
          "text": [
            "     T5   T6  GT  KV  DT  KT         KQ\n",
            "0   7.4  6.9   0   2   2  A1  Khong Dat\n",
            "1   3.0  4.0   1   1   2   C  Khong Dat\n",
            "2   4.8  5.7   1   1   2   C        Dat\n",
            "3   6.1  7.4   1   1   2  D1  Khong Dat\n",
            "4   6.8  8.0   1   2   2   A  Khong Dat\n",
            "..  ...  ...  ..  ..  ..  ..        ...\n",
            "95  7.9  6.6   0   1   2   C  Khong Dat\n",
            "96  5.5  5.7   0   1   2   C  Khong Dat\n",
            "97  9.0  8.5   1   2   2   C        Dat\n",
            "98  4.1  4.3   1   1   2   C  Khong Dat\n",
            "99  5.6  5.1   1   2   2   C  Khong Dat\n",
            "\n",
            "[100 rows x 7 columns]\n"
          ],
          "name": "stdout"
        }
      ]
    },
    {
      "cell_type": "code",
      "metadata": {
        "colab": {
          "base_uri": "https://localhost:8080/"
        },
        "id": "IzP1paQC3KBt",
        "outputId": "4a74561c-2c7b-4d54-927b-31914e47be58"
      },
      "source": [
        "print(np.unique(df['KT']))"
      ],
      "execution_count": 10,
      "outputs": [
        {
          "output_type": "stream",
          "text": [
            "['A' 'A1' 'B' 'C' 'D1']\n"
          ],
          "name": "stdout"
        }
      ]
    },
    {
      "cell_type": "code",
      "metadata": {
        "colab": {
          "base_uri": "https://localhost:8080/"
        },
        "id": "-3yv3J2u3GGL",
        "outputId": "5986c851-7a8c-44e7-b3f5-da34cbc498f3"
      },
      "source": [
        "map_kt = {'A':1,'A1':1,'B':2,'C':3,'D1':4}\n",
        "df['KT'] = df['KT'].map(map_kt)\n",
        "print(df[['T5', 'T6','GT' , 'KV', 'DT', 'KT', 'KQ']])"
      ],
      "execution_count": 11,
      "outputs": [
        {
          "output_type": "stream",
          "text": [
            "     T5   T6  GT  KV  DT  KT         KQ\n",
            "0   7.4  6.9   0   2   2   1  Khong Dat\n",
            "1   3.0  4.0   1   1   2   3  Khong Dat\n",
            "2   4.8  5.7   1   1   2   3        Dat\n",
            "3   6.1  7.4   1   1   2   4  Khong Dat\n",
            "4   6.8  8.0   1   2   2   1  Khong Dat\n",
            "..  ...  ...  ..  ..  ..  ..        ...\n",
            "95  7.9  6.6   0   1   2   3  Khong Dat\n",
            "96  5.5  5.7   0   1   2   3  Khong Dat\n",
            "97  9.0  8.5   1   2   2   3        Dat\n",
            "98  4.1  4.3   1   1   2   3  Khong Dat\n",
            "99  5.6  5.1   1   2   2   3  Khong Dat\n",
            "\n",
            "[100 rows x 7 columns]\n"
          ],
          "name": "stdout"
        }
      ]
    },
    {
      "cell_type": "code",
      "metadata": {
        "colab": {
          "base_uri": "https://localhost:8080/"
        },
        "id": "hqZWQq0p3cMN",
        "outputId": "4e17b634-d50c-4b58-f2d1-828d355a16e6"
      },
      "source": [
        "kq = {'Khong Dat':0,'Dat':1}\n",
        "df['KQ'] = df['KQ'].map(kq)\n",
        "print(df[['T5','T6','GT' ,'KV','DT','KT','KQ']])"
      ],
      "execution_count": 12,
      "outputs": [
        {
          "output_type": "stream",
          "text": [
            "     T5   T6  GT  KV  DT  KT  KQ\n",
            "0   7.4  6.9   0   2   2   1   0\n",
            "1   3.0  4.0   1   1   2   3   0\n",
            "2   4.8  5.7   1   1   2   3   1\n",
            "3   6.1  7.4   1   1   2   4   0\n",
            "4   6.8  8.0   1   2   2   1   0\n",
            "..  ...  ...  ..  ..  ..  ..  ..\n",
            "95  7.9  6.6   0   1   2   3   0\n",
            "96  5.5  5.7   0   1   2   3   0\n",
            "97  9.0  8.5   1   2   2   3   1\n",
            "98  4.1  4.3   1   1   2   3   0\n",
            "99  5.6  5.1   1   2   2   3   0\n",
            "\n",
            "[100 rows x 7 columns]\n"
          ],
          "name": "stdout"
        }
      ]
    },
    {
      "cell_type": "code",
      "metadata": {
        "id": "JsOvGfzQ6SF8"
      },
      "source": [
        "X = df[['T5','T6','GT','KV','DT','KT']]\n",
        "y = df.KQ"
      ],
      "execution_count": 13,
      "outputs": []
    },
    {
      "cell_type": "code",
      "metadata": {
        "id": "qg_VLGV-38He"
      },
      "source": [
        "#-> phân loại\n",
        "# -> Decision tree cơ bản\n",
        "from sklearn.tree import DecisionTreeClassifier\n",
        "dtree = DecisionTreeClassifier()\n",
        "dtree = dtree.fit(X,y)\n",
        "\n",
        "from sklearn import tree\n",
        "\n",
        "data_tree = tree.export_graphviz(dtree, out_file = None, \n",
        "                                 feature_names=X.columns)\n",
        "import pydotplus\n",
        "graph = pydotplus.graph_from_dot_data(data_tree)\n",
        "image =graph.write_png('/content/mytree.png') "
      ],
      "execution_count": 20,
      "outputs": []
    },
    {
      "cell_type": "code",
      "metadata": {
        "colab": {
          "base_uri": "https://localhost:8080/",
          "height": 1000
        },
        "id": "i1qyuCKx5vCf",
        "outputId": "849da736-2da4-4c42-98f9-5ef93d99bf01"
      },
      "source": [
        "from IPython.display import Image\n",
        "Image(filename='/content/mytree.png') \n"
      ],
      "execution_count": 22,
      "outputs": [
        {
          "output_type": "execute_result",
          "data": {
            "image/png": "[encoded data removed]",
            "text/plain": [
              "<IPython.core.display.Image object>"
            ]
          },
          "metadata": {
            "tags": []
          },
          "execution_count": 22
        }
      ]
    },
    {
      "cell_type": "code",
      "metadata": {
        "id": "LrUL91LnGg9f"
      },
      "source": [
        ""
      ],
      "execution_count": 17,
      "outputs": []
    }
  ]
}
{
  "nbformat": 4,
  "nbformat_minor": 0,
  "metadata": {
    "colab": {
      "name": "19510211_Đào_Duy_Trường_4.ipynb",
      "provenance": [],
      "include_colab_link": true
    },
    "kernelspec": {
      "name": "python3",
      "display_name": "Python 3"
    },
    "language_info": {
      "name": "python"
    }
  },
  "cells": [
    {
      "cell_type": "markdown",
      "metadata": {
        "id": "view-in-github",
        "colab_type": "text"
      },
      "source": [
        "<a href=\"https://colab.research.google.com/github/TruongScotl/Data-Analysis-Practice/blob/main/diabetes_cancer_predict.ipynb\" target=\"_parent\"><img src=\"https://colab.research.google.com/assets/colab-badge.svg\" alt=\"Open In Colab\"/></a>"
      ]
    },
    {
      "cell_type": "code",
      "metadata": {
        "colab": {
          "base_uri": "https://localhost:8080/"
        },
        "id": "Rm1xBa5GwjSf",
        "outputId": "8329b4d7-2402-4995-c24e-72cc6ec6fc29"
      },
      "source": [
        "import numpy as np\n",
        "from sklearn import datasets , linear_model\n",
        "from sklearn . metrics import mean_squared_error , r2_score\n",
        "diabetes = datasets . load_diabetes ()\n",
        "print (\" Features : \", diabetes . feature_names )\n",
        "# Load the diabetes dataset\n",
        "diabetes_X , diabetes_y = datasets . load_diabetes ( return_X_y = True )"
      ],
      "execution_count": 18,
      "outputs": [
        {
          "output_type": "stream",
          "text": [
            " Features :  ['age', 'sex', 'bmi', 'bp', 's1', 's2', 's3', 's4', 's5', 's6']\n"
          ],
          "name": "stdout"
        }
      ]
    },
    {
      "cell_type": "code",
      "metadata": {
        "id": "duFY-1-OwjKD"
      },
      "source": [
        "from sklearn.model_selection import train_test_split\n",
        "X_train, X_test, y_train, y_test = train_test_split(diabetes_X , diabetes_y, test_size = 0.2, random_state =1)"
      ],
      "execution_count": 19,
      "outputs": []
    },
    {
      "cell_type": "code",
      "metadata": {
        "id": "zN5CyxJWwjC3"
      },
      "source": [
        "from sklearn import datasets, linear_model, metrics\n",
        "reg = linear_model.LinearRegression()\n",
        "reg.fit(X_train,y_train)\n",
        "\n",
        "y_pred = reg.predict(X_test)"
      ],
      "execution_count": 20,
      "outputs": []
    },
    {
      "cell_type": "code",
      "metadata": {
        "colab": {
          "base_uri": "https://localhost:8080/"
        },
        "id": "_RVgKgB-witA",
        "outputId": "cddcc340-fe9a-451b-c990-181b90c083e1"
      },
      "source": [
        "print('Coefficients: ', reg.coef_[0])\n",
        "print('intercept: ', reg.intercept_)"
      ],
      "execution_count": 21,
      "outputs": [
        {
          "output_type": "stream",
          "text": [
            "Coefficients:  -30.621682410174387\n",
            "intercept:  151.43006895898006\n"
          ],
          "name": "stdout"
        }
      ]
    },
    {
      "cell_type": "code",
      "metadata": {
        "colab": {
          "base_uri": "https://localhost:8080/"
        },
        "id": "FGvBHJAEwqx_",
        "outputId": "e987c050-1a7b-42d1-d748-718be689093b"
      },
      "source": [
        "from sklearn.metrics import r2_score\n",
        "coefficient_of_dermination = r2_score(y_test, y_pred)\n",
        "print(coefficient_of_dermination)"
      ],
      "execution_count": 22,
      "outputs": [
        {
          "output_type": "stream",
          "text": [
            "0.43843604017332694\n"
          ],
          "name": "stdout"
        }
      ]
    },
    {
      "cell_type": "code",
      "metadata": {
        "colab": {
          "base_uri": "https://localhost:8080/"
        },
        "id": "V0SmofqIwrSm",
        "outputId": "029d1fa0-b365-4f7a-a12c-9bb8c50ca04b"
      },
      "source": [
        "mse = metrics.mean_squared_error(y_test, y_pred)\n",
        "print(mse)"
      ],
      "execution_count": 23,
      "outputs": [
        {
          "output_type": "stream",
          "text": [
            "2992.5576814529445\n"
          ],
          "name": "stdout"
        }
      ]
    },
    {
      "cell_type": "code",
      "metadata": {
        "colab": {
          "base_uri": "https://localhost:8080/"
        },
        "id": "_L-FkY41wrKm",
        "outputId": "c2afdd18-77f8-4b6e-fc63-bea8ba6d0d96"
      },
      "source": [
        "al = [0.001, 0.01, 0.1, 1, 10, 100, 1000]\n",
        "from sklearn.linear_model import Ridge\n",
        "for i in al:\n",
        "  clf = Ridge(alpha = i)\n",
        "  clf.fit(X_train, y_train)\n",
        "  mse = metrics.mean_squared_error(y_test, clf.predict(X_test))\n",
        "  print(f\"Means square error Rigel with alpha {i}\", mse)"
      ],
      "execution_count": 24,
      "outputs": [
        {
          "output_type": "stream",
          "text": [
            "Means square error Rigel with alpha 0.001 2998.3892471519707\n",
            "Means square error Rigel with alpha 0.01 3020.5151317696022\n",
            "Means square error Rigel with alpha 0.1 3022.879000109279\n",
            "Means square error Rigel with alpha 1 3272.145686484852\n",
            "Means square error Rigel with alpha 10 4528.248931451025\n",
            "Means square error Rigel with alpha 100 5249.3839638645895\n",
            "Means square error Rigel with alpha 1000 5354.840126970927\n"
          ],
          "name": "stdout"
        }
      ]
    },
    {
      "cell_type": "code",
      "metadata": {
        "colab": {
          "base_uri": "https://localhost:8080/"
        },
        "id": "PVclbbfPwx5H",
        "outputId": "fa7993ec-1646-4530-bd98-e7995f418e84"
      },
      "source": [
        "# Lasso \n",
        "al = [0.001, 0.01, 0.1, 1, 10, 100, 1000]\n",
        "from sklearn.linear_model import Lasso\n",
        "for i in al:\n",
        "  las = Lasso(alpha = i)\n",
        "  las.fit(X_train, y_train)\n",
        "  mse = metrics.mean_squared_error(y_test, las.predict(X_test))\n",
        "  print(f\"Means square error Lasso with alpha {i}\", mse)"
      ],
      "execution_count": 25,
      "outputs": [
        {
          "output_type": "stream",
          "text": [
            "Means square error Lasso with alpha 0.001 2995.7974698196094\n",
            "Means square error Lasso with alpha 0.01 3026.8691720962242\n",
            "Means square error Lasso with alpha 0.1 3032.2160880512506\n",
            "Means square error Lasso with alpha 1 3625.3673492415674\n",
            "Means square error Lasso with alpha 10 5367.095070594302\n",
            "Means square error Lasso with alpha 100 5367.095070594302\n",
            "Means square error Lasso with alpha 1000 5367.095070594302\n"
          ],
          "name": "stdout"
        }
      ]
    },
    {
      "cell_type": "code",
      "metadata": {
        "id": "BLTjmH8bM8fx"
      },
      "source": [
        "import numpy as np\n",
        "from sklearn import datasets , linear_model\n",
        "from sklearn . metrics import mean_squared_error , r2_score"
      ],
      "execution_count": 26,
      "outputs": []
    },
    {
      "cell_type": "markdown",
      "metadata": {
        "id": "tE_TNujsxgNy"
      },
      "source": [
        "Bài 4\n"
      ]
    },
    {
      "cell_type": "code",
      "metadata": {
        "id": "ZwANPeeFxkSk"
      },
      "source": [
        "from sklearn import datasets\n",
        "cancer = datasets . load_breast_cancer ()"
      ],
      "execution_count": 27,
      "outputs": []
    },
    {
      "cell_type": "code",
      "metadata": {
        "id": "xY0gv22Cxn-8",
        "colab": {
          "base_uri": "https://localhost:8080/"
        },
        "outputId": "7a97a805-1a5d-4fe5-fcd1-9d7672006607"
      },
      "source": [
        "# print the names of the 13 features\n",
        "print (\" Features : \", cancer . feature_names )\n",
        "# print the label type of cancer(’malignant ’ ’benign ’)\n",
        "print (\" Labels : \", cancer . target_names )\n"
      ],
      "execution_count": 28,
      "outputs": [
        {
          "output_type": "stream",
          "text": [
            " Features :  ['mean radius' 'mean texture' 'mean perimeter' 'mean area'\n",
            " 'mean smoothness' 'mean compactness' 'mean concavity'\n",
            " 'mean concave points' 'mean symmetry' 'mean fractal dimension'\n",
            " 'radius error' 'texture error' 'perimeter error' 'area error'\n",
            " 'smoothness error' 'compactness error' 'concavity error'\n",
            " 'concave points error' 'symmetry error' 'fractal dimension error'\n",
            " 'worst radius' 'worst texture' 'worst perimeter' 'worst area'\n",
            " 'worst smoothness' 'worst compactness' 'worst concavity'\n",
            " 'worst concave points' 'worst symmetry' 'worst fractal dimension']\n",
            " Labels :  ['malignant' 'benign']\n"
          ],
          "name": "stdout"
        }
      ]
    },
    {
      "cell_type": "code",
      "metadata": {
        "id": "YSRGbbgq00F4"
      },
      "source": [
        "cancer_X , cancer_y = datasets . load_breast_cancer ( return_X_y = True )"
      ],
      "execution_count": 29,
      "outputs": []
    },
    {
      "cell_type": "code",
      "metadata": {
        "id": "jJDLpvM1xosp"
      },
      "source": [
        "from sklearn.model_selection import train_test_split\n",
        "\n",
        "X_train, X_test, y_train, y_test = train_test_split(cancer_X, cancer_y, test_size = 0.3, random_state = 1)\n"
      ],
      "execution_count": 30,
      "outputs": []
    },
    {
      "cell_type": "code",
      "metadata": {
        "id": "d1EAK-M4x2_C"
      },
      "source": [
        "from sklearn.preprocessing import StandardScaler\n",
        "scaler = StandardScaler()\n",
        "\n",
        "X_train = scaler.fit_transform(X_train) # on training data use fit_transform\n",
        "X_test = scaler.transform (X_test) "
      ],
      "execution_count": 31,
      "outputs": []
    },
    {
      "cell_type": "code",
      "metadata": {
        "id": "IfBDsu725PlD"
      },
      "source": [
        "from sklearn import datasets, linear_model, metrics\n",
        "lr = linear_model.LogisticRegression()\n",
        "lr.fit(X_train, y_train)\n",
        "\n",
        "y_pred = lr.predict(X_test)\n",
        "y_pred_train = lr.predict(X_train)"
      ],
      "execution_count": 32,
      "outputs": []
    },
    {
      "cell_type": "markdown",
      "metadata": {
        "id": "WVOzoBqGeV9a"
      },
      "source": [
        "Metrics"
      ]
    },
    {
      "cell_type": "markdown",
      "metadata": {
        "id": "eg8CEaUz0oqS"
      },
      "source": [
        "On training dataset"
      ]
    },
    {
      "cell_type": "code",
      "metadata": {
        "id": "djtG07dl1dmr",
        "colab": {
          "base_uri": "https://localhost:8080/"
        },
        "outputId": "9e3c9a64-f9e5-4842-ee6a-0dafb2d9910f"
      },
      "source": [
        "print(metrics.accuracy_score(y_train, y_pred_train))"
      ],
      "execution_count": 33,
      "outputs": [
        {
          "output_type": "stream",
          "text": [
            "0.9899497487437185\n"
          ],
          "name": "stdout"
        }
      ]
    },
    {
      "cell_type": "code",
      "metadata": {
        "id": "u0EEPqlN03f5",
        "colab": {
          "base_uri": "https://localhost:8080/"
        },
        "outputId": "502ca85a-0624-4492-d77a-26bbb2f6a10b"
      },
      "source": [
        "from sklearn.metrics import confusion_matrix\n",
        "tn, fp, fn, tp = confusion_matrix(y_train, y_pred_train).ravel()\n",
        "print(tn, fp, fn, tp)\n",
        "#TP rate\n",
        "TPrate = tp/(fn+tp)\n",
        "#FP rate\n",
        "FPrate = fp/(fp+tn)\n",
        "#FN rate\n",
        "FNrate = fn/(fn+tp)\n",
        "print(f\"TP rate: {TPrate} \\nFP rate: {FPrate} \\nFN rate: {FNrate}\")"
      ],
      "execution_count": 34,
      "outputs": [
        {
          "output_type": "stream",
          "text": [
            "146 3 1 248\n",
            "TP rate: 0.9959839357429718 \n",
            "FP rate: 0.020134228187919462 \n",
            "FN rate: 0.004016064257028112\n"
          ],
          "name": "stdout"
        }
      ]
    },
    {
      "cell_type": "code",
      "metadata": {
        "id": "SNdShwxS05VR",
        "colab": {
          "base_uri": "https://localhost:8080/"
        },
        "outputId": "f2a2214e-cd72-43ad-9850-a4c8b32426ae"
      },
      "source": [
        "#Precision, Recall, and F1\n",
        "print(\"Precision:\", tp/(tp+fp))\n",
        "print(\"Recall: \", tp/(tp+fn))\n",
        "f1 = tp/(tp+1/2*(fp+fn))\n",
        "print(\"F1 score: \",f1)"
      ],
      "execution_count": 35,
      "outputs": [
        {
          "output_type": "stream",
          "text": [
            "Precision: 0.9880478087649402\n",
            "Recall:  0.9959839357429718\n",
            "F1 score:  0.992\n"
          ],
          "name": "stdout"
        }
      ]
    },
    {
      "cell_type": "markdown",
      "metadata": {
        "id": "7xiU71hR0zAy"
      },
      "source": [
        "On test dataset"
      ]
    },
    {
      "cell_type": "code",
      "metadata": {
        "id": "i9q1ZQ28U2eY",
        "colab": {
          "base_uri": "https://localhost:8080/"
        },
        "outputId": "86c327ff-e564-4a17-893c-83dd7628e90d"
      },
      "source": [
        "#accuracy\n",
        "print(metrics.accuracy_score(y_test, y_pred))"
      ],
      "execution_count": 36,
      "outputs": [
        {
          "output_type": "stream",
          "text": [
            "0.9707602339181286\n"
          ],
          "name": "stdout"
        }
      ]
    },
    {
      "cell_type": "code",
      "metadata": {
        "id": "6PebnuXXeSbC",
        "colab": {
          "base_uri": "https://localhost:8080/"
        },
        "outputId": "01c48407-45b2-446c-df53-62923f2626fd"
      },
      "source": [
        "from sklearn.metrics import confusion_matrix\n",
        "tn, fp, fn, tp = confusion_matrix(y_test, y_pred).ravel()\n",
        "print(tn, fp, fn, tp)\n",
        "#TP rate\n",
        "TPrate = tp/(fn+tp)\n",
        "#FP rate\n",
        "FPrate = fp/(fp+tn)\n",
        "#FN rate\n",
        "FNrate = fn/(fn+tp)\n",
        "print(f\"TP rate: {TPrate} \\nFP rate: {FPrate} \\nFN rate: {FNrate}\")"
      ],
      "execution_count": 37,
      "outputs": [
        {
          "output_type": "stream",
          "text": [
            "61 2 3 105\n",
            "TP rate: 0.9722222222222222 \n",
            "FP rate: 0.031746031746031744 \n",
            "FN rate: 0.027777777777777776\n"
          ],
          "name": "stdout"
        }
      ]
    },
    {
      "cell_type": "code",
      "metadata": {
        "id": "eFlSDdmOlSeO",
        "colab": {
          "base_uri": "https://localhost:8080/"
        },
        "outputId": "d7a2e4a7-9a21-4ea9-bf05-a7fbc1207bf6"
      },
      "source": [
        "#Precision, Recall, and F1\n",
        "print(\"Precision:\", tp/(tp+fp))\n",
        "print(\"Recall: \", tp/(tp+fn))\n",
        "f1 = tp/(tp+1/2*(fp+fn))\n",
        "print(\"F1 score: \",f1)"
      ],
      "execution_count": 38,
      "outputs": [
        {
          "output_type": "stream",
          "text": [
            "Precision: 0.9813084112149533\n",
            "Recall:  0.9722222222222222\n",
            "F1 score:  0.9767441860465116\n"
          ],
          "name": "stdout"
        }
      ]
    },
    {
      "cell_type": "code",
      "metadata": {
        "id": "_RbH-iWBqWks"
      },
      "source": [
        ""
      ],
      "execution_count": 38,
      "outputs": []
    }
  ]
}